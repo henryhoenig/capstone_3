{
 "cells": [
  {
   "cell_type": "code",
   "execution_count": 61,
   "id": "physical-brush",
   "metadata": {},
   "outputs": [],
   "source": [
    "import pandas as pd\n",
    "import numpy as np\n",
    "import matplotlib.pyplot as plt\n",
    "plt.style.use('fivethirtyeight')"
   ]
  },
  {
   "cell_type": "code",
   "execution_count": 3,
   "id": "confidential-horror",
   "metadata": {},
   "outputs": [],
   "source": [
    "df = pd.read_csv('data/stop_steal_notDC.csv')"
   ]
  },
  {
   "cell_type": "code",
   "execution_count": 4,
   "id": "mexican-quality",
   "metadata": {},
   "outputs": [],
   "source": [
    "pd.set_option('display.max_columns', None)"
   ]
  },
  {
   "cell_type": "code",
   "execution_count": 5,
   "id": "supposed-copyright",
   "metadata": {},
   "outputs": [],
   "source": [
    "df.drop(columns=['time', 'photos', 'video', 'timezone', 'place', 'language', 'cashtags', 'thumbnail', 'near', 'geo', 'source', 'user_rt_id', 'user_rt', 'retweet_id', 'retweet_date', 'translate', 'trans_src', 'trans_dest'], inplace=True)"
   ]
  },
  {
   "cell_type": "code",
   "execution_count": 6,
   "id": "impressive-chase",
   "metadata": {},
   "outputs": [],
   "source": [
    "pd.set_option('display.max_rows', 50)"
   ]
  },
  {
   "cell_type": "code",
   "execution_count": 7,
   "id": "lyric-removal",
   "metadata": {},
   "outputs": [
    {
     "data": {
      "text/plain": [
       "(16180, 18)"
      ]
     },
     "execution_count": 7,
     "metadata": {},
     "output_type": "execute_result"
    }
   ],
   "source": [
    "df.shape"
   ]
  },
  {
   "cell_type": "code",
   "execution_count": 8,
   "id": "federal-nitrogen",
   "metadata": {},
   "outputs": [
    {
     "data": {
      "text/html": [
       "<div>\n",
       "<style scoped>\n",
       "    .dataframe tbody tr th:only-of-type {\n",
       "        vertical-align: middle;\n",
       "    }\n",
       "\n",
       "    .dataframe tbody tr th {\n",
       "        vertical-align: top;\n",
       "    }\n",
       "\n",
       "    .dataframe thead th {\n",
       "        text-align: right;\n",
       "    }\n",
       "</style>\n",
       "<table border=\"1\" class=\"dataframe\">\n",
       "  <thead>\n",
       "    <tr style=\"text-align: right;\">\n",
       "      <th></th>\n",
       "      <th>id</th>\n",
       "      <th>conversation_id</th>\n",
       "      <th>created_at</th>\n",
       "      <th>date</th>\n",
       "      <th>user_id</th>\n",
       "      <th>username</th>\n",
       "      <th>name</th>\n",
       "      <th>tweet</th>\n",
       "      <th>mentions</th>\n",
       "      <th>urls</th>\n",
       "      <th>replies_count</th>\n",
       "      <th>retweets_count</th>\n",
       "      <th>likes_count</th>\n",
       "      <th>hashtags</th>\n",
       "      <th>link</th>\n",
       "      <th>retweet</th>\n",
       "      <th>quote_url</th>\n",
       "      <th>reply_to</th>\n",
       "    </tr>\n",
       "  </thead>\n",
       "  <tbody>\n",
       "    <tr>\n",
       "      <th>0</th>\n",
       "      <td>1.350000e+18</td>\n",
       "      <td>1.350000e+18</td>\n",
       "      <td>2021-01-07 17:58:44 CST</td>\n",
       "      <td>1/7/21</td>\n",
       "      <td>364612580.0</td>\n",
       "      <td>christicmp</td>\n",
       "      <td>CMP</td>\n",
       "      <td>@jeremynewberger @marklevinshow @PeteHegseth W...</td>\n",
       "      <td>[]</td>\n",
       "      <td>[]</td>\n",
       "      <td>0</td>\n",
       "      <td>0</td>\n",
       "      <td>0</td>\n",
       "      <td>['stopthesteal']</td>\n",
       "      <td>https://twitter.com/ChristiCMP/status/13473318...</td>\n",
       "      <td>False</td>\n",
       "      <td>NaN</td>\n",
       "      <td>[{'screen_name': 'jeremynewberger', 'name': 'M...</td>\n",
       "    </tr>\n",
       "  </tbody>\n",
       "</table>\n",
       "</div>"
      ],
      "text/plain": [
       "             id  conversation_id               created_at    date  \\\n",
       "0  1.350000e+18     1.350000e+18  2021-01-07 17:58:44 CST  1/7/21   \n",
       "\n",
       "       user_id    username name  \\\n",
       "0  364612580.0  christicmp  CMP   \n",
       "\n",
       "                                               tweet mentions urls  \\\n",
       "0  @jeremynewberger @marklevinshow @PeteHegseth W...       []   []   \n",
       "\n",
       "   replies_count  retweets_count  likes_count          hashtags  \\\n",
       "0              0               0            0  ['stopthesteal']   \n",
       "\n",
       "                                                link  retweet quote_url  \\\n",
       "0  https://twitter.com/ChristiCMP/status/13473318...    False       NaN   \n",
       "\n",
       "                                            reply_to  \n",
       "0  [{'screen_name': 'jeremynewberger', 'name': 'M...  "
      ]
     },
     "execution_count": 8,
     "metadata": {},
     "output_type": "execute_result"
    }
   ],
   "source": [
    "df.head(1)"
   ]
  },
  {
   "cell_type": "code",
   "execution_count": null,
   "id": "adjusted-direction",
   "metadata": {},
   "outputs": [],
   "source": [
    "# 16,000 tweets by 7,700 unique users\n",
    "# None of the tweets gathered were retweets, but some were replies to other tweets\n",
    "# 16,000 tweets were retweeted 55,000 times"
   ]
  },
  {
   "cell_type": "code",
   "execution_count": 59,
   "id": "peripheral-fruit",
   "metadata": {},
   "outputs": [],
   "source": [
    "top_tweeters = df.groupby('username')['name'].count().sort_values(ascending=False)[0:10]"
   ]
  },
  {
   "cell_type": "code",
   "execution_count": 60,
   "id": "surgical-advisory",
   "metadata": {},
   "outputs": [
    {
     "data": {
      "text/plain": [
       "username\n",
       "laniemv            139\n",
       "paritzer           135\n",
       "jgmac1106          128\n",
       "chadnoonan2        125\n",
       "rubyreddress818    103\n",
       "amber_hend7         95\n",
       "mcleod              82\n",
       "santa02fe           61\n",
       "pepesplants         54\n",
       "abeaches1           50\n",
       "Name: name, dtype: int64"
      ]
     },
     "execution_count": 60,
     "metadata": {},
     "output_type": "execute_result"
    }
   ],
   "source": [
    "top_tweeters"
   ]
  },
  {
   "cell_type": "code",
   "execution_count": 66,
   "id": "effective-firmware",
   "metadata": {},
   "outputs": [
    {
     "data": {
      "text/plain": [
       "10"
      ]
     },
     "execution_count": 66,
     "metadata": {},
     "output_type": "execute_result"
    }
   ],
   "source": [
    "len(top_tweeters.index)"
   ]
  },
  {
   "cell_type": "code",
   "execution_count": 90,
   "id": "current-metadata",
   "metadata": {},
   "outputs": [
    {
     "data": {
      "image/png": "[encoded data removed]",
      "text/plain": [
       "<Figure size 640x480 with 1 Axes>"
      ]
     },
     "metadata": {},
     "output_type": "display_data"
    }
   ],
   "source": [
    "plt.rcdefaults()\n",
    "fig, ax = plt.subplots()\n",
    "\n",
    "feature_names = top_tweeters.index\n",
    "values = top_tweeters\n",
    "\n",
    "y_pos = np.arange(len(feature_names))\n",
    "#performance = 3 + 10 * np.random.rand(len(feature_names))\n",
    "\n",
    "ax.barh(y_pos, values, align='center', color='green')\n",
    "ax.set_yticks(y_pos)\n",
    "ax.set_yticklabels(feature_names)\n",
    "ax.invert_yaxis()  # labels read top-to-bottom\n",
    "ax.set_xlabel('Total Number of Tweets')\n",
    "ax.set_title('Most Prolific Tweeters')\n",
    "plt.savefig('images/top_tweeters.png', bbox_inches='tight')\n",
    "plt.show()"
   ]
  },
  {
   "cell_type": "code",
   "execution_count": null,
   "id": "comfortable-magnet",
   "metadata": {},
   "outputs": [],
   "source": []
  },
  {
   "cell_type": "code",
   "execution_count": null,
   "id": "laughing-millennium",
   "metadata": {},
   "outputs": [],
   "source": []
  },
  {
   "cell_type": "code",
   "execution_count": 80,
   "id": "fiscal-vessel",
   "metadata": {},
   "outputs": [
    {
     "data": {
      "text/plain": [
       "12791    8433\n",
       "10719    3745\n",
       "15232    3108\n",
       "6196     2848\n",
       "16169    2848\n",
       "         ... \n",
       "5886        0\n",
       "5887        0\n",
       "5888        0\n",
       "5889        0\n",
       "16179       0\n",
       "Name: retweets_count, Length: 16180, dtype: int64"
      ]
     },
     "execution_count": 80,
     "metadata": {},
     "output_type": "execute_result"
    }
   ],
   "source": [
    "df.retweets_count.sort_values(ascending=False)"
   ]
  },
  {
   "cell_type": "code",
   "execution_count": 85,
   "id": "intermediate-valve",
   "metadata": {},
   "outputs": [
    {
     "data": {
      "text/plain": [
       "conversation_id\n",
       "1.350000e+18    16084\n",
       "1.340000e+18       43\n",
       "1.330000e+18        9\n",
       "1.270000e+18        7\n",
       "1.320000e+18        5\n",
       "1.190000e+18        4\n",
       "1.140000e+18        3\n",
       "1.346920e+18        3\n",
       "9.230000e+17        3\n",
       "1.280000e+18        3\n",
       "1.310000e+18        2\n",
       "1.346820e+18        2\n",
       "1.346910e+18        2\n",
       "1.300000e+18        1\n",
       "1.090000e+18        1\n",
       "1.150000e+18        1\n",
       "1.346610e+18        1\n",
       "1.346630e+18        1\n",
       "1.346660e+18        1\n",
       "1.346870e+18        1\n",
       "1.346900e+18        1\n",
       "1.346930e+18        1\n",
       "1.346550e+18        1\n",
       "Name: retweets_count, dtype: int64"
      ]
     },
     "execution_count": 85,
     "metadata": {},
     "output_type": "execute_result"
    }
   ],
   "source": [
    "highest_rt = df.groupby('conversation_id')['retweets_count'].count()\n",
    "highest_rt.sort_values(ascending=False)"
   ]
  },
  {
   "cell_type": "code",
   "execution_count": 84,
   "id": "aware-minimum",
   "metadata": {},
   "outputs": [
    {
     "data": {
      "text/plain": [
       "conversation_id\n",
       "9.230000e+17        3\n",
       "1.090000e+18        1\n",
       "1.140000e+18        3\n",
       "1.150000e+18        1\n",
       "1.190000e+18        4\n",
       "1.270000e+18        7\n",
       "1.280000e+18        3\n",
       "1.300000e+18        1\n",
       "1.310000e+18        2\n",
       "1.320000e+18        5\n",
       "1.330000e+18        9\n",
       "1.340000e+18       43\n",
       "1.346550e+18        1\n",
       "1.346610e+18        1\n",
       "1.346630e+18        1\n",
       "1.346660e+18        1\n",
       "1.346820e+18        2\n",
       "1.346870e+18        1\n",
       "1.346900e+18        1\n",
       "1.346910e+18        2\n",
       "1.346920e+18        3\n",
       "1.346930e+18        1\n",
       "1.350000e+18    16084\n",
       "Name: retweets_count, dtype: int64"
      ]
     },
     "execution_count": 84,
     "metadata": {},
     "output_type": "execute_result"
    }
   ],
   "source": [
    "highest_rt"
   ]
  },
  {
   "cell_type": "code",
   "execution_count": 87,
   "id": "arctic-illustration",
   "metadata": {},
   "outputs": [
    {
     "data": {
      "text/plain": [
       "0      13222\n",
       "1       1652\n",
       "2        406\n",
       "3        190\n",
       "4        115\n",
       "       ...  \n",
       "139        1\n",
       "107        1\n",
       "91         1\n",
       "83         1\n",
       "471        1\n",
       "Name: retweets_count, Length: 146, dtype: int64"
      ]
     },
     "execution_count": 87,
     "metadata": {},
     "output_type": "execute_result"
    }
   ],
   "source": [
    "df.retweets_count.value_counts()"
   ]
  },
  {
   "cell_type": "code",
   "execution_count": null,
   "id": "forward-nightmare",
   "metadata": {},
   "outputs": [],
   "source": []
  }
 ],
 "metadata": {
  "kernelspec": {
   "display_name": "Environment (conda_pytorch_latest_p37)",
   "language": "python",
   "name": "conda_pytorch_latest_p37"
  },
  "language_info": {
   "codemirror_mode": {
    "name": "ipython",
    "version": 3
   },
   "file_extension": ".py",
   "mimetype": "text/x-python",
   "name": "python",
   "nbconvert_exporter": "python",
   "pygments_lexer": "ipython3",
   "version": "3.7.10"
  }
 },
 "nbformat": 4,
 "nbformat_minor": 5
}
