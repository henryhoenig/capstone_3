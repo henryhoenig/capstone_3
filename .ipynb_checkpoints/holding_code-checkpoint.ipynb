{
 "cells": [
  {
   "cell_type": "code",
   "execution_count": null,
   "id": "working-navigator",
   "metadata": {},
   "outputs": [],
   "source": [
    "master_mentions_list = []\n",
    "for i in mentions:          # i is single string, sometimes containing only [], sometimes multiple entries\n",
    "    i = i.split(\"}, \")      # splits by entry (each entry is dict of len 3); empty i or i with only one name won't get split, will filter\n",
    "#    print(i)\n",
    "#     print(len(i))\n",
    "    if len(i) < 2:          # ie, if didn't split because only one entry, skip\n",
    "        continue\n",
    "    else:\n",
    "#        print(i)\n",
    "        name_list = []      # moved up from new creation for each j (this likely the biggest problem): ie, under \"for j in i\"\n",
    "        for j in i:         # at this point, i is still a list of multiple mentions, with j as each element of list a single FULL entry\n",
    "#             print(j)\n",
    "#             print(0)\n",
    "            j = j.split(\", \") # splits each entry j between screen name half and name half\n",
    "#             print(j)\n",
    "#             print(len(j))\n",
    "            j = j[1].replace(\"'\", \"\")    # assigns name half of j to j, stripping some punctuation\n",
    "            j = j.replace(\":\", \"\")       # more cleaning of punctuation\n",
    "#            print(j)\n",
    "            j = j.split(\"name \")         # now splits \"name half\" of j btween \"name \" and actual name, creating new 2-element list\n",
    "            name = j[1]                  # assigns name to second element of new list (actual name) \n",
    "#            print(name)\n",
    "            name_list.append(name)       # appends name to name_list, which should contain all names mentioned in a given tweet (original i in mentions)\n",
    "    master_mentions_list.append(name_list) # once all names in single entry appended to name_list, this list appended to master, then return to outer for loop\n",
    "                                            # in test case, there should be two lists (only two tweets in first 10 contained more than one mention)\n",
    "print(master_mentions_list)\n",
    "print(len(master_mentions_list))\n",
    "for n in master_mentions_list:\n",
    "    for k in n:\n",
    "        print(k)"
   ]
  }
 ],
 "metadata": {
  "kernelspec": {
   "display_name": "Python 3",
   "language": "python",
   "name": "python3"
  },
  "language_info": {
   "codemirror_mode": {
    "name": "ipython",
    "version": 3
   },
   "file_extension": ".py",
   "mimetype": "text/x-python",
   "name": "python",
   "nbconvert_exporter": "python",
   "pygments_lexer": "ipython3",
   "version": "3.7.10"
  }
 },
 "nbformat": 4,
 "nbformat_minor": 5
}
