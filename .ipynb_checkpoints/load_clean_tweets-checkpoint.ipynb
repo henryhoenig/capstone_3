{
 "cells": [
  {
   "cell_type": "code",
   "execution_count": 1,
   "id": "handmade-houston",
   "metadata": {},
   "outputs": [],
   "source": [
    "import pandas as pd\n",
    "import numpy as np\n",
    "import re\n",
    "import string\n",
    "import unicodedata\n",
    "from cleaners import clean_tweet_text, load_tweets, make_single_string"
   ]
  },
  {
   "cell_type": "code",
   "execution_count": 2,
   "id": "historical-planner",
   "metadata": {},
   "outputs": [],
   "source": [
    "df = load_tweets('data/stop_steal.csv')    "
   ]
  },
  {
   "cell_type": "code",
   "execution_count": 3,
   "id": "forbidden-affair",
   "metadata": {},
   "outputs": [],
   "source": [
    "tweets_df = clean_tweet_text(df.tweet)"
   ]
  },
  {
   "cell_type": "code",
   "execution_count": 4,
   "id": "anticipated-charter",
   "metadata": {},
   "outputs": [],
   "source": [
    "tweets_df.to_csv('data/tweet_text.csv', index=False)"
   ]
  },
  {
   "cell_type": "code",
   "execution_count": 12,
   "id": "monthly-aaron",
   "metadata": {},
   "outputs": [],
   "source": [
    "single_string_list = make_single_string(tweets_df.text)"
   ]
  },
  {
   "cell_type": "code",
   "execution_count": 15,
   "id": "exciting-frank",
   "metadata": {},
   "outputs": [],
   "source": [
    "one_string_df = pd.DataFrame(single_string_list, columns=['text'])"
   ]
  },
  {
   "cell_type": "code",
   "execution_count": 14,
   "id": "important-accused",
   "metadata": {},
   "outputs": [],
   "source": [
    "one_string_df.to_csv('data/one_string_text.csv', index=False)"
   ]
  },
  {
   "cell_type": "code",
   "execution_count": null,
   "id": "third-million",
   "metadata": {},
   "outputs": [],
   "source": []
  }
 ],
 "metadata": {
  "kernelspec": {
   "display_name": "Python 3",
   "language": "python",
   "name": "python3"
  },
  "language_info": {
   "codemirror_mode": {
    "name": "ipython",
    "version": 3
   },
   "file_extension": ".py",
   "mimetype": "text/x-python",
   "name": "python",
   "nbconvert_exporter": "python",
   "pygments_lexer": "ipython3",
   "version": "3.7.7"
  }
 },
 "nbformat": 4,
 "nbformat_minor": 5
}
