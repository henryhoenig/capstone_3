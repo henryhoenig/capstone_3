{
 "cells": [
  {
   "cell_type": "code",
   "execution_count": 69,
   "id": "architectural-syndrome",
   "metadata": {},
   "outputs": [],
   "source": [
    "import pandas as pd\n",
    "import networkx as nx\n",
    "import matplotlib.pyplot as plt\n",
    "import itertools\n",
    "from itertools import combinations\n",
    "from collections import Counter"
   ]
  },
  {
   "cell_type": "code",
   "execution_count": 3,
   "id": "authorized-boxing",
   "metadata": {},
   "outputs": [],
   "source": [
    "df = pd.read_csv('data/hashtag_edges_short.csv')"
   ]
  },
  {
   "cell_type": "code",
   "execution_count": 45,
   "id": "revised-formation",
   "metadata": {},
   "outputs": [],
   "source": [
    "# Dropping nan values in first two rows\n",
    "#df.drop(df.index[0], inplace=True)\n"
   ]
  },
  {
   "cell_type": "code",
   "execution_count": 43,
   "id": "exciting-differential",
   "metadata": {},
   "outputs": [],
   "source": [
    "# splits up string into two separate columns (nodes, representing edges)\n",
    "data = [['americafirst', 'auditallvotes']]\n",
    "edges_df = pd.DataFrame(data, columns = ['edge1', 'edge2'])\n",
    "\n",
    "for index, row in df.iterrows():\n",
    "    tup = row.values[0]\n",
    "    tup = tup.replace(\"(\", \"\")\n",
    "    tup = tup.replace(\")\", \"\")\n",
    "    tup = tup.replace(\"'\", \"\")\n",
    "    tup = tup.replace(\",\", \"\")\n",
    "    tup = tup.split(' ')\n",
    "    temp_data = [[tup[0], tup[1]]]\n",
    "    temp_edges_df = pd.DataFrame(temp_data, columns = ['edge1', 'edge2'])\n",
    "    edges_df = edges_df.append(temp_edges_df, ignore_index=True)"
   ]
  },
  {
   "cell_type": "code",
   "execution_count": 50,
   "id": "disciplinary-harvest",
   "metadata": {},
   "outputs": [],
   "source": [
    "G = nx.MultiGraph()\n",
    "G = nx.from_pandas_edgelist(edges_df, source='edge1', target='edge2')"
   ]
  },
  {
   "cell_type": "code",
   "execution_count": null,
   "id": "ahead-spoke",
   "metadata": {},
   "outputs": [],
   "source": []
  },
  {
   "cell_type": "code",
   "execution_count": 55,
   "id": "sublime-festival",
   "metadata": {},
   "outputs": [
    {
     "name": "stdout",
     "output_type": "stream",
     "text": [
      "35661\n",
      "4923\n"
     ]
    }
   ],
   "source": [
    "print(G.number_of_edges())\n",
    "print(G.number_of_nodes())"
   ]
  },
  {
   "cell_type": "code",
   "execution_count": 56,
   "id": "bottom-average",
   "metadata": {},
   "outputs": [],
   "source": [
    "# creates dict of nodes\n",
    "nodes = dict(G.nodes())"
   ]
  },
  {
   "cell_type": "code",
   "execution_count": 58,
   "id": "buried-jefferson",
   "metadata": {},
   "outputs": [],
   "source": [
    "# converts to multigraph, with self-loops and parallel edges\n",
    "hashG = nx.MultiGraph(G)"
   ]
  },
  {
   "cell_type": "code",
   "execution_count": 62,
   "id": "remarkable-employment",
   "metadata": {},
   "outputs": [],
   "source": [
    "deg = dict(nx.degree(hashG))"
   ]
  },
  {
   "cell_type": "code",
   "execution_count": null,
   "id": "spare-reproduction",
   "metadata": {
    "collapsed": true,
    "jupyter": {
     "outputs_hidden": true
    },
    "tags": []
   },
   "outputs": [],
   "source": []
  },
  {
   "cell_type": "code",
   "execution_count": 70,
   "id": "guided-colombia",
   "metadata": {},
   "outputs": [],
   "source": [
    "x, y = zip(*Counter(deg.values()).items())"
   ]
  },
  {
   "cell_type": "code",
   "execution_count": 73,
   "id": "radical-individual",
   "metadata": {
    "tags": []
   },
   "outputs": [
    {
     "name": "stdout",
     "output_type": "stream",
     "text": [
      "stopthesteal ({}): 4924\n",
      "maga ({}): 1202\n",
      "trump ({}): 904\n",
      "trump2020 ({}): 638\n",
      "fightfortrump ({}): 540\n",
      "wethepeople ({}): 436\n",
      "electionfraud ({}): 402\n",
      "fightback ({}): 340\n",
      "usa ({}): 340\n",
      "georgia ({}): 337\n",
      "washingtondc ({}): 336\n",
      "marchfortrump ({}): 336\n",
      "trumpwon ({}): 323\n",
      "kag ({}): 317\n",
      "antifa ({}): 313\n",
      "america ({}): 296\n",
      "electionintegrity ({}): 287\n",
      "americafirst ({}): 285\n",
      "patriots ({}): 283\n",
      "6-Jan ({}): 278\n",
      "election2020 ({}): 273\n",
      "draintheswamp ({}): 264\n",
      "voterfraud ({}): 261\n",
      "dc ({}): 249\n",
      "gop ({}): 243\n",
      "capitol ({}): 236\n",
      "holdtheline ({}): 226\n",
      "freedom ({}): 224\n",
      "trumprally ({}): 220\n",
      "biden ({}): 216\n",
      "congress ({}): 215\n",
      "fightforamerica ({}): 211\n",
      "election ({}): 209\n",
      "donaldtrump ({}): 208\n",
      "january6th ({}): 204\n",
      "fakenews ({}): 203\n",
      "saveamerica ({}): 202\n",
      "maga2020 ({}): 196\n",
      "wwg1wga ({}): 195\n",
      "republicans ({}): 194\n",
      "joebiden ({}): 178\n",
      "fraud ({}): 169\n",
      "blm ({}): 164\n",
      "stopthecoup ({}): 162\n",
      "stopthesteai2021 ({}): 160\n",
      "treason ({}): 159\n",
      "potus ({}): 155\n",
      "democrats ({}): 152\n",
      "covid19 ({}): 150\n",
      "presidenttrump ({}): 148\n"
     ]
    }
   ],
   "source": [
    "top50 = sorted([(n, hashG.nodes[n], v) for n, v in deg.items()], \n",
    "               key=lambda x: x[2], reverse=True)[:50]\n",
    "print(\"\\n\".join([\"{} ({}): {}\".format(*t) for t in top50]))"
   ]
  },
  {
   "cell_type": "code",
   "execution_count": 74,
   "id": "electrical-bobby",
   "metadata": {},
   "outputs": [],
   "source": [
    "isolates = nx.isolates(hashG)"
   ]
  },
  {
   "cell_type": "code",
   "execution_count": 75,
   "id": "pursuant-productivity",
   "metadata": {},
   "outputs": [],
   "source": [
    "hashG.remove_nodes_from(isolates)"
   ]
  },
  {
   "cell_type": "code",
   "execution_count": 80,
   "id": "rocky-concern",
   "metadata": {},
   "outputs": [],
   "source": [
    "isolates = nx.isolates(hashG)\n"
   ]
  },
  {
   "cell_type": "code",
   "execution_count": null,
   "id": "pending-warner",
   "metadata": {},
   "outputs": [],
   "source": []
  }
 ],
 "metadata": {
  "kernelspec": {
   "display_name": "Environment (conda_tensorflow2_latest_p37)",
   "language": "python",
   "name": "conda_tensorflow2_latest_p37"
  },
  "language_info": {
   "codemirror_mode": {
    "name": "ipython",
    "version": 3
   },
   "file_extension": ".py",
   "mimetype": "text/x-python",
   "name": "python",
   "nbconvert_exporter": "python",
   "pygments_lexer": "ipython3",
   "version": "3.7.10"
  }
 },
 "nbformat": 4,
 "nbformat_minor": 5
}
