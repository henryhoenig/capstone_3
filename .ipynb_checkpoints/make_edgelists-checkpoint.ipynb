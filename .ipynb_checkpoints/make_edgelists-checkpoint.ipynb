{
 "cells": [
  {
   "cell_type": "code",
   "execution_count": 1,
   "id": "difficult-wichita",
   "metadata": {},
   "outputs": [],
   "source": [
    "import pandas as pd\n",
    "import networkx as nx\n",
    "import matplotlib.pyplot as plt\n",
    "import itertools\n",
    "from itertools import combinations"
   ]
  },
  {
   "cell_type": "code",
   "execution_count": 3,
   "id": "rural-victim",
   "metadata": {},
   "outputs": [],
   "source": [
    "df = pd.read_csv('small_hashtag_gephi.csv')"
   ]
  },
  {
   "cell_type": "markdown",
   "id": "distributed-threshold",
   "metadata": {},
   "source": [
    "* Go through df row by row\n",
    "* For each row, make a pair of tuples (edges) for each item in the row (permutations)\n",
    "* Put first row of edges into new dataframe (df_edges)\n",
    "* From then on, concatenate each new row of tuples onto df_edges\n",
    "* Once done, groupby to count\n",
    "* Put those you want to keep into new dataframe"
   ]
  },
  {
   "cell_type": "code",
   "execution_count": 4,
   "id": "tutorial-rendering",
   "metadata": {},
   "outputs": [],
   "source": [
    "edges_df = pd.DataFrame([None, None])\n",
    "for index, row in df.iterrows():\n",
    "    hold = [x for x in row.values if x == x]\n",
    "    edges = (list(combinations(hold, 2)))\n",
    "    edges_series=pd.Series(edges)\n",
    "    new_edges_df = pd.DataFrame(edges_series)\n",
    "    edges_df = edges_df.append(new_edges_df, ignore_index=True)"
   ]
  },
  {
   "cell_type": "code",
   "execution_count": null,
   "id": "neither-donna",
   "metadata": {},
   "outputs": [],
   "source": [
    "#what if you put into dictionary initially, then coverted top n elements into dataframe?"
   ]
  },
  {
   "cell_type": "code",
   "execution_count": 21,
   "id": "executive-anthropology",
   "metadata": {},
   "outputs": [],
   "source": [
    "edges_df.rename(columns={0 : 'edges'}, inplace=True)"
   ]
  },
  {
   "cell_type": "code",
   "execution_count": 59,
   "id": "intellectual-williams",
   "metadata": {},
   "outputs": [
    {
     "data": {
      "text/plain": [
       "pandas.core.frame.DataFrame"
      ]
     },
     "execution_count": 59,
     "metadata": {},
     "output_type": "execute_result"
    }
   ],
   "source": [
    "# could use value_counts without index.values\n",
    "# subtract 21 from all values? normalize divide by 969\n",
    "\n",
    "type(edges_df['edges'].value_counts() [edges_df['edges'].value_counts() > 20].reset_index())"
   ]
  },
  {
   "cell_type": "code",
   "execution_count": 40,
   "id": "muslim-crown",
   "metadata": {},
   "outputs": [],
   "source": []
  },
  {
   "cell_type": "code",
   "execution_count": null,
   "id": "surgical-headline",
   "metadata": {},
   "outputs": [],
   "source": []
  },
  {
   "cell_type": "code",
   "execution_count": null,
   "id": "associate-camping",
   "metadata": {},
   "outputs": [],
   "source": []
  }
 ],
 "metadata": {
  "kernelspec": {
   "display_name": "Environment (conda_tensorflow2_latest_p37)",
   "language": "python",
   "name": "conda_tensorflow2_latest_p37"
  },
  "language_info": {
   "codemirror_mode": {
    "name": "ipython",
    "version": 3
   },
   "file_extension": ".py",
   "mimetype": "text/x-python",
   "name": "python",
   "nbconvert_exporter": "python",
   "pygments_lexer": "ipython3",
   "version": "3.7.10"
  }
 },
 "nbformat": 4,
 "nbformat_minor": 5
}
