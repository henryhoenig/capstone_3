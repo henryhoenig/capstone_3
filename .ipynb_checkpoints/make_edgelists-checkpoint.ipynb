{
 "cells": [
  {
   "cell_type": "code",
   "execution_count": 89,
   "id": "abstract-occasion",
   "metadata": {},
   "outputs": [],
   "source": [
    "import pandas as pd\n",
    "import networkx as nx\n",
    "import matplotlib.pyplot as plt\n",
    "import itertools\n",
    "from itertools import combinations"
   ]
  },
  {
   "cell_type": "code",
   "execution_count": 220,
   "id": "vulnerable-integration",
   "metadata": {},
   "outputs": [],
   "source": [
    "df = pd.read_csv('.csv')"
   ]
  },
  {
   "cell_type": "markdown",
   "id": "looking-major",
   "metadata": {},
   "source": [
    "* Go through df row by row\n",
    "* For each row, make a pair of tuples (edges) for each item in the row (permutations)\n",
    "* Put first row of edges into new dataframe (df_edges)\n",
    "* From then on, concatenate each new row of tuples onto df_edges\n",
    "* Once done, groupby to count\n",
    "* Put those you want to keep into new dataframe"
   ]
  },
  {
   "cell_type": "code",
   "execution_count": 223,
   "id": "supreme-tackle",
   "metadata": {},
   "outputs": [],
   "source": [
    "edges_df = pd.DataFrame([None, None])\n",
    "for index, row in df.iterrows():\n",
    "    hold = [x for x in row.values if x == x]\n",
    "    edges = (list(combinations(hold, 2)))\n",
    "    edges_series=pd.Series(edges)\n",
    "    new_edges_df = pd.DataFrame(edges_series)\n",
    "    edges_df = edges_df.append(new_edges_df, ignore_index=True)"
   ]
  },
  {
   "cell_type": "code",
   "execution_count": 225,
   "id": "looking-neighborhood",
   "metadata": {},
   "outputs": [],
   "source": [
    "edges_df.to_csv('.csv', index=False)"
   ]
  },
  {
   "cell_type": "code",
   "execution_count": null,
   "id": "eastern-outline",
   "metadata": {},
   "outputs": [],
   "source": []
  }
 ],
 "metadata": {
  "kernelspec": {
   "display_name": "Environment (conda_tensorflow2_latest_p37)",
   "language": "python",
   "name": "conda_tensorflow2_latest_p37"
  },
  "language_info": {
   "codemirror_mode": {
    "name": "ipython",
    "version": 3
   },
   "file_extension": ".py",
   "mimetype": "text/x-python",
   "name": "python",
   "nbconvert_exporter": "python",
   "pygments_lexer": "ipython3",
   "version": "3.7.10"
  }
 },
 "nbformat": 4,
 "nbformat_minor": 5
}
