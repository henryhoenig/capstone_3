{
 "cells": [
  {
   "cell_type": "code",
   "execution_count": 103,
   "id": "nutritional-source",
   "metadata": {},
   "outputs": [],
   "source": [
    "import pandas as pd\n",
    "import networkx as nx\n",
    "import matplotlib.pyplot as plt\n",
    "import itertools\n",
    "from itertools import combinations\n",
    "from collections import Counter\n",
    "from operator import itemgetter\n",
    "from networkx.algorithms import community\n",
    "from networkx.drawing.nx_agraph import graphviz_layout"
   ]
  },
  {
   "cell_type": "code",
   "execution_count": 316,
   "id": "brown-exemption",
   "metadata": {},
   "outputs": [],
   "source": [
    "df = pd.read_csv('data/weighted_mentions_edges110.csv')"
   ]
  },
  {
   "cell_type": "code",
   "execution_count": 317,
   "id": "public-catch",
   "metadata": {},
   "outputs": [],
   "source": [
    "df.drop(columns=['Unnamed: 0'], inplace=True)"
   ]
  },
  {
   "cell_type": "code",
   "execution_count": 318,
   "id": "about-crowd",
   "metadata": {},
   "outputs": [
    {
     "data": {
      "text/html": [
       "<div>\n",
       "<style scoped>\n",
       "    .dataframe tbody tr th:only-of-type {\n",
       "        vertical-align: middle;\n",
       "    }\n",
       "\n",
       "    .dataframe tbody tr th {\n",
       "        vertical-align: top;\n",
       "    }\n",
       "\n",
       "    .dataframe thead th {\n",
       "        text-align: right;\n",
       "    }\n",
       "</style>\n",
       "<table border=\"1\" class=\"dataframe\">\n",
       "  <thead>\n",
       "    <tr style=\"text-align: right;\">\n",
       "      <th></th>\n",
       "      <th>edges</th>\n",
       "      <th>weights</th>\n",
       "    </tr>\n",
       "  </thead>\n",
       "  <tbody>\n",
       "    <tr>\n",
       "      <th>0</th>\n",
       "      <td>('one america news', 'newsmax')</td>\n",
       "      <td>1.000000</td>\n",
       "    </tr>\n",
       "    <tr>\n",
       "      <th>1</th>\n",
       "      <td>('donald j. trump', 'senator ted cruz')</td>\n",
       "      <td>0.527273</td>\n",
       "    </tr>\n",
       "    <tr>\n",
       "      <th>2</th>\n",
       "      <td>('house republicans', 'senate republicans')</td>\n",
       "      <td>0.236364</td>\n",
       "    </tr>\n",
       "  </tbody>\n",
       "</table>\n",
       "</div>"
      ],
      "text/plain": [
       "                                         edges   weights\n",
       "0              ('one america news', 'newsmax')  1.000000\n",
       "1      ('donald j. trump', 'senator ted cruz')  0.527273\n",
       "2  ('house republicans', 'senate republicans')  0.236364"
      ]
     },
     "execution_count": 318,
     "metadata": {},
     "output_type": "execute_result"
    }
   ],
   "source": [
    "df.head(3)"
   ]
  },
  {
   "cell_type": "code",
   "execution_count": 319,
   "id": "filled-plymouth",
   "metadata": {},
   "outputs": [],
   "source": [
    "edges_list=[]\n",
    "for index, row in df.iterrows():\n",
    "    weight = row.values[1] # holds weight as int for placement\n",
    "    tup = row.values[0]    \n",
    "    tup = tup.replace(\"(\", \"\")\n",
    "    tup = tup.replace(\")\", \"\")\n",
    "    tup = tup.replace(\"'\", \"\")\n",
    "    tup = tup.split(', ')\n",
    "    temp_data = [tup[0], tup[1], weight]\n",
    "    edges_list.append(temp_data)\n",
    "\n",
    "edges_df = pd.DataFrame(edges_list, columns=['edge1', 'edge2', 'weight'])"
   ]
  },
  {
   "cell_type": "code",
   "execution_count": null,
   "id": "sustainable-chest",
   "metadata": {},
   "outputs": [],
   "source": []
  },
  {
   "cell_type": "code",
   "execution_count": null,
   "id": "certified-search",
   "metadata": {
    "tags": []
   },
   "outputs": [],
   "source": []
  },
  {
   "cell_type": "code",
   "execution_count": 320,
   "id": "sublime-lewis",
   "metadata": {},
   "outputs": [],
   "source": [
    "import warnings\n",
    "warnings.filterwarnings('ignore')"
   ]
  },
  {
   "cell_type": "code",
   "execution_count": 321,
   "id": "professional-organizer",
   "metadata": {},
   "outputs": [],
   "source": [
    "G = nx.MultiGraph()\n",
    "G = nx.from_pandas_edgelist(edges_df, source='edge1', target='edge2', edge_attr=[\"weight\"])"
   ]
  },
  {
   "cell_type": "code",
   "execution_count": null,
   "id": "liked-processing",
   "metadata": {},
   "outputs": [],
   "source": []
  },
  {
   "cell_type": "code",
   "execution_count": 322,
   "id": "proprietary-expense",
   "metadata": {},
   "outputs": [
    {
     "name": "stdout",
     "output_type": "stream",
     "text": [
      "8\n",
      "8\n"
     ]
    }
   ],
   "source": [
    "print(G.number_of_edges())\n",
    "print(G.number_of_nodes())"
   ]
  },
  {
   "cell_type": "code",
   "execution_count": 323,
   "id": "marine-deputy",
   "metadata": {},
   "outputs": [],
   "source": [
    "# creates dict of nodes\n",
    "nodes = dict(G.nodes())"
   ]
  },
  {
   "cell_type": "code",
   "execution_count": 324,
   "id": "decreased-offense",
   "metadata": {},
   "outputs": [],
   "source": [
    "# converts to multigraph, with self-loops and parallel edges\n",
    "mentionsG = nx.MultiGraph(G)"
   ]
  },
  {
   "cell_type": "code",
   "execution_count": 325,
   "id": "ignored-fortune",
   "metadata": {},
   "outputs": [],
   "source": [
    "deg = dict(nx.degree(mentionsG))"
   ]
  },
  {
   "cell_type": "code",
   "execution_count": 326,
   "id": "experienced-puppy",
   "metadata": {
    "tags": []
   },
   "outputs": [
    {
     "data": {
      "text/plain": [
       "{'one america news': 2,\n",
       " 'newsmax': 2,\n",
       " 'donald j. trump': 4,\n",
       " 'senator ted cruz': 1,\n",
       " 'house republicans': 2,\n",
       " 'senate republicans': 2,\n",
       " 'gop': 1,\n",
       " 'greg kelly': 2}"
      ]
     },
     "execution_count": 326,
     "metadata": {},
     "output_type": "execute_result"
    }
   ],
   "source": [
    "deg"
   ]
  },
  {
   "cell_type": "code",
   "execution_count": 327,
   "id": "capable-national",
   "metadata": {
    "tags": []
   },
   "outputs": [],
   "source": [
    "isolates = nx.isolates(mentionsG)"
   ]
  },
  {
   "cell_type": "code",
   "execution_count": 328,
   "id": "ready-reflection",
   "metadata": {},
   "outputs": [],
   "source": [
    "mentionsG.remove_nodes_from(isolates)"
   ]
  },
  {
   "cell_type": "code",
   "execution_count": 329,
   "id": "artistic-chemistry",
   "metadata": {},
   "outputs": [],
   "source": [
    "isolates = nx.isolates(mentionsG)\n"
   ]
  },
  {
   "cell_type": "code",
   "execution_count": 330,
   "id": "younger-guitar",
   "metadata": {},
   "outputs": [],
   "source": [
    "sorted_degree = sorted(deg.items(), key=itemgetter(1), reverse=True)"
   ]
  },
  {
   "cell_type": "code",
   "execution_count": 331,
   "id": "criminal-flavor",
   "metadata": {
    "tags": []
   },
   "outputs": [
    {
     "name": "stdout",
     "output_type": "stream",
     "text": [
      "Top 20 nodes by degree:\n",
      "('donald j. trump', 4)\n",
      "('one america news', 2)\n",
      "('newsmax', 2)\n",
      "('house republicans', 2)\n",
      "('senate republicans', 2)\n",
      "('greg kelly', 2)\n",
      "('senator ted cruz', 1)\n",
      "('gop', 1)\n"
     ]
    }
   ],
   "source": [
    "print(\"Top 20 nodes by degree:\")\n",
    "for d in sorted_degree[:20]:\n",
    "    print(d)"
   ]
  },
  {
   "cell_type": "code",
   "execution_count": 332,
   "id": "spare-adobe",
   "metadata": {
    "tags": []
   },
   "outputs": [],
   "source": [
    "#betweenness_dict = nx.betweenness_centrality(hashG) # Run betweenness centrality\n",
    "#eigenvector_dict = nx.eigenvector_centrality(hashG) # Run eigenvector centrality"
   ]
  },
  {
   "cell_type": "code",
   "execution_count": 333,
   "id": "circular-fundamental",
   "metadata": {},
   "outputs": [],
   "source": [
    "communities = community.greedy_modularity_communities(mentionsG)"
   ]
  },
  {
   "cell_type": "code",
   "execution_count": 334,
   "id": "internal-marketing",
   "metadata": {},
   "outputs": [
    {
     "data": {
      "text/plain": [
       "8"
      ]
     },
     "execution_count": 334,
     "metadata": {},
     "output_type": "execute_result"
    }
   ],
   "source": [
    "len(communities)"
   ]
  },
  {
   "cell_type": "code",
   "execution_count": 335,
   "id": "authorized-liberty",
   "metadata": {},
   "outputs": [],
   "source": [
    "# #creates a number value for each person based on community to which they belong\n",
    "\n",
    "# modularity_dict = {} \n",
    "# for i,c in enumerate(communities): # Loop through the list of communities, keeping track of the number for the community\n",
    "#     for name in c: # Loop through each person in a community\n",
    "#         modularity_dict[name] = i # Create an entry in the dictionary for the person, where the value is which group they belong to."
   ]
  },
  {
   "cell_type": "code",
   "execution_count": 336,
   "id": "chubby-crest",
   "metadata": {
    "tags": []
   },
   "outputs": [],
   "source": [
    "for i,c in enumerate(communities): # Loop through the list of communities\n",
    "    if len(c) > 5: # Filter out modularity classes with 2 or fewer nodes\n",
    "        print('Class '+str(i)+':', list(c)) # Print out the classes and their members"
   ]
  },
  {
   "cell_type": "code",
   "execution_count": 337,
   "id": "welsh-kitchen",
   "metadata": {
    "tags": []
   },
   "outputs": [],
   "source": [
    "# #how to get neighbors\n",
    "# list(hashG.neighbors('wwg1wga'))"
   ]
  },
  {
   "cell_type": "code",
   "execution_count": 338,
   "id": "fewer-model",
   "metadata": {
    "tags": []
   },
   "outputs": [
    {
     "data": {
      "text/plain": [
       "{'one america news': 0.2857142857142857,\n",
       " 'newsmax': 0.2857142857142857,\n",
       " 'donald j. trump': 0.5714285714285714,\n",
       " 'senator ted cruz': 0.14285714285714285,\n",
       " 'house republicans': 0.2857142857142857,\n",
       " 'senate republicans': 0.2857142857142857,\n",
       " 'gop': 0.14285714285714285,\n",
       " 'greg kelly': 0.2857142857142857}"
      ]
     },
     "execution_count": 338,
     "metadata": {},
     "output_type": "execute_result"
    }
   ],
   "source": [
    "nx.degree_centrality(mentionsG)"
   ]
  },
  {
   "cell_type": "code",
   "execution_count": 339,
   "id": "weekly-liver",
   "metadata": {
    "tags": []
   },
   "outputs": [
    {
     "data": {
      "text/plain": [
       "4"
      ]
     },
     "execution_count": 339,
     "metadata": {},
     "output_type": "execute_result"
    }
   ],
   "source": [
    "len(list(nx.find_cliques(mentionsG)))"
   ]
  },
  {
   "cell_type": "code",
   "execution_count": 340,
   "id": "administrative-christopher",
   "metadata": {},
   "outputs": [],
   "source": [
    "# can you put the cliques into new graph and draw them?\n",
    "\n",
    "gl = list(nx.find_cliques(mentionsG))\n",
    "# nx.draw(G, with_labels=True)"
   ]
  },
  {
   "cell_type": "code",
   "execution_count": 341,
   "id": "precious-generation",
   "metadata": {
    "tags": []
   },
   "outputs": [
    {
     "data": {
      "text/plain": [
       "[['donald j. trump', 'house republicans', 'senate republicans'],\n",
       " ['donald j. trump', 'senator ted cruz'],\n",
       " ['donald j. trump', 'gop'],\n",
       " ['one america news', 'newsmax', 'greg kelly']]"
      ]
     },
     "execution_count": 341,
     "metadata": {},
     "output_type": "execute_result"
    }
   ],
   "source": [
    "gl"
   ]
  },
  {
   "cell_type": "code",
   "execution_count": null,
   "id": "thermal-interest",
   "metadata": {},
   "outputs": [],
   "source": []
  },
  {
   "cell_type": "code",
   "execution_count": 342,
   "id": "administrative-riverside",
   "metadata": {
    "tags": []
   },
   "outputs": [],
   "source": [
    "# # this seems important to drawing \n",
    "# betCent = nx.betweenness_centrality(hashG, normalized=True, endpoints=True)"
   ]
  },
  {
   "cell_type": "code",
   "execution_count": null,
   "id": "intermediate-hostel",
   "metadata": {},
   "outputs": [],
   "source": []
  },
  {
   "cell_type": "code",
   "execution_count": 343,
   "id": "dressed-alcohol",
   "metadata": {},
   "outputs": [
    {
     "data": {
      "image/png": "[encoded data removed]",
      "text/plain": [
       "<Figure size 1440x1080 with 1 Axes>"
      ]
     },
     "metadata": {},
     "output_type": "display_data"
    }
   ],
   "source": [
    "pos = nx.fruchterman_reingold_layout(mentionsG) #fruchterman_reingold \n",
    "plt.rcParams.update({'figure.figsize': (20, 15)})\n",
    "nx.draw_networkx(\n",
    "    mentionsG, \n",
    "    pos=pos, \n",
    "    node_size=1, \n",
    "    edge_color=\"#444444\", \n",
    "    alpha=1, \n",
    "    with_labels=False)"
   ]
  },
  {
   "cell_type": "code",
   "execution_count": 344,
   "id": "interesting-armstrong",
   "metadata": {},
   "outputs": [
    {
     "data": {
      "image/png": "[encoded data removed]",
      "text/plain": [
       "<Figure size 1440x936 with 1 Axes>"
      ]
     },
     "metadata": {},
     "output_type": "display_data"
    }
   ],
   "source": [
    "plt.figure(figsize = (20,13))\n",
    "nx.draw_networkx(mentionsG, pos=pos)\n",
    "plt.savefig(\"images/mentions110.png\", format = \"png\", dpi = 300)\n",
    "plt.show()"
   ]
  },
  {
   "cell_type": "code",
   "execution_count": 345,
   "id": "powered-bookmark",
   "metadata": {},
   "outputs": [],
   "source": [
    "# hashG=nx.path_graph('stopthesteal')\n",
    "nx.write_gexf(mentionsG, \"gexf/mentions110.gexf\")"
   ]
  },
  {
   "cell_type": "code",
   "execution_count": null,
   "id": "clinical-grill",
   "metadata": {},
   "outputs": [],
   "source": []
  },
  {
   "cell_type": "code",
   "execution_count": null,
   "id": "atomic-elimination",
   "metadata": {},
   "outputs": [],
   "source": []
  }
 ],
 "metadata": {
  "kernelspec": {
   "display_name": "Environment (conda_tensorflow2_latest_p37)",
   "language": "python",
   "name": "conda_tensorflow2_latest_p37"
  },
  "language_info": {
   "codemirror_mode": {
    "name": "ipython",
    "version": 3
   },
   "file_extension": ".py",
   "mimetype": "text/x-python",
   "name": "python",
   "nbconvert_exporter": "python",
   "pygments_lexer": "ipython3",
   "version": "3.7.10"
  }
 },
 "nbformat": 4,
 "nbformat_minor": 5
}
