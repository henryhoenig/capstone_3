{
 "cells": [
  {
   "cell_type": "code",
   "execution_count": 2,
   "id": "occupational-atmosphere",
   "metadata": {},
   "outputs": [
    {
     "name": "stdout",
     "output_type": "stream",
     "text": [
      "/bin/bash: switchml: line 1: syntax error: unexpected end of file\n",
      "/bin/bash: error importing function definition for `switchml'\n",
      "/bin/bash: _moduleraw: line 1: syntax error: unexpected end of file\n",
      "/bin/bash: error importing function definition for `_moduleraw'\n",
      "Collecting gensim\n",
      "  Using cached gensim-4.0.1-cp37-cp37m-manylinux1_x86_64.whl (23.9 MB)\n",
      "Requirement already satisfied: smart-open>=1.8.1 in /home/ubuntu/anaconda3/envs/pytorch_latest_p37/lib/python3.7/site-packages (from gensim) (3.0.0)\n",
      "Requirement already satisfied: scipy>=0.18.1 in /home/ubuntu/anaconda3/envs/pytorch_latest_p37/lib/python3.7/site-packages (from gensim) (1.6.1)\n",
      "Requirement already satisfied: numpy>=1.11.3 in /home/ubuntu/anaconda3/envs/pytorch_latest_p37/lib/python3.7/site-packages (from gensim) (1.19.2)\n",
      "Requirement already satisfied: requests in /home/ubuntu/anaconda3/envs/pytorch_latest_p37/lib/python3.7/site-packages (from smart-open>=1.8.1->gensim) (2.25.1)\n",
      "Requirement already satisfied: chardet<5,>=3.0.2 in /home/ubuntu/anaconda3/envs/pytorch_latest_p37/lib/python3.7/site-packages (from requests->smart-open>=1.8.1->gensim) (4.0.0)\n",
      "Requirement already satisfied: certifi>=2017.4.17 in /home/ubuntu/anaconda3/envs/pytorch_latest_p37/lib/python3.7/site-packages (from requests->smart-open>=1.8.1->gensim) (2020.12.5)\n",
      "Requirement already satisfied: urllib3<1.27,>=1.21.1 in /home/ubuntu/anaconda3/envs/pytorch_latest_p37/lib/python3.7/site-packages (from requests->smart-open>=1.8.1->gensim) (1.26.4)\n",
      "Requirement already satisfied: idna<3,>=2.5 in /home/ubuntu/anaconda3/envs/pytorch_latest_p37/lib/python3.7/site-packages (from requests->smart-open>=1.8.1->gensim) (2.10)\n",
      "Installing collected packages: gensim\n",
      "Successfully installed gensim-4.0.1\n"
     ]
    }
   ],
   "source": [
    "!pip install gensim"
   ]
  },
  {
   "cell_type": "code",
   "execution_count": 4,
   "id": "whole-forum",
   "metadata": {},
   "outputs": [
    {
     "name": "stdout",
     "output_type": "stream",
     "text": [
      "/bin/bash: switchml: line 1: syntax error: unexpected end of file\n",
      "/bin/bash: error importing function definition for `switchml'\n",
      "/bin/bash: _moduleraw: line 1: syntax error: unexpected end of file\n",
      "/bin/bash: error importing function definition for `_moduleraw'\n",
      "Collecting pyLDAvis\n",
      "  Downloading pyLDAvis-3.3.1.tar.gz (1.7 MB)\n",
      "\u001b[K     |████████████████████████████████| 1.7 MB 29.4 MB/s eta 0:00:01\n",
      "\u001b[?25h  Installing build dependencies ... \u001b[?25lerror\n",
      "\u001b[31m  ERROR: Command errored out with exit status 1:\n",
      "   command: /home/ubuntu/anaconda3/envs/pytorch_latest_p37/bin/python3.7 /home/ubuntu/anaconda3/envs/pytorch_latest_p37/lib/python3.7/site-packages/pip install --ignore-installed --no-user --prefix /tmp/pip-build-env-sc1nrt27/overlay --no-warn-script-location --no-binary :none: --only-binary :none: -i https://pypi.org/simple -- setuptools\n",
      "       cwd: None\n",
      "  Complete output (42 lines):\n",
      "  Traceback (most recent call last):\n",
      "    File \"/home/ubuntu/anaconda3/envs/pytorch_latest_p37/lib/python3.7/runpy.py\", line 193, in _run_module_as_main\n",
      "      \"__main__\", mod_spec)\n",
      "    File \"/home/ubuntu/anaconda3/envs/pytorch_latest_p37/lib/python3.7/runpy.py\", line 85, in _run_code\n",
      "      exec(code, run_globals)\n",
      "    File \"/home/ubuntu/anaconda3/envs/pytorch_latest_p37/lib/python3.7/site-packages/pip/__main__.py\", line 24, in <module>\n",
      "      sys.exit(_main())\n",
      "    File \"/home/ubuntu/anaconda3/envs/pytorch_latest_p37/lib/python3.7/site-packages/pip/_internal/cli/main.py\", line 71, in main\n",
      "      command = create_command(cmd_name, isolated=(\"--isolated\" in cmd_args))\n",
      "    File \"/home/ubuntu/anaconda3/envs/pytorch_latest_p37/lib/python3.7/site-packages/pip/_internal/commands/__init__.py\", line 96, in create_command\n",
      "      module = importlib.import_module(module_path)\n",
      "    File \"/home/ubuntu/anaconda3/envs/pytorch_latest_p37/lib/python3.7/importlib/__init__.py\", line 127, in import_module\n",
      "      return _bootstrap._gcd_import(name[level:], package, level)\n",
      "    File \"<frozen importlib._bootstrap>\", line 1006, in _gcd_import\n",
      "    File \"<frozen importlib._bootstrap>\", line 983, in _find_and_load\n",
      "    File \"<frozen importlib._bootstrap>\", line 967, in _find_and_load_unlocked\n",
      "    File \"<frozen importlib._bootstrap>\", line 677, in _load_unlocked\n",
      "    File \"<frozen importlib._bootstrap_external>\", line 728, in exec_module\n",
      "    File \"<frozen importlib._bootstrap>\", line 219, in _call_with_frames_removed\n",
      "    File \"/home/ubuntu/anaconda3/envs/pytorch_latest_p37/lib/python3.7/site-packages/pip/_internal/commands/install.py\", line 15, in <module>\n",
      "      from pip._internal.cli.req_command import RequirementCommand, with_cleanup\n",
      "    File \"/home/ubuntu/anaconda3/envs/pytorch_latest_p37/lib/python3.7/site-packages/pip/_internal/cli/req_command.py\", line 16, in <module>\n",
      "      from pip._internal.index.collector import LinkCollector\n",
      "    File \"/home/ubuntu/anaconda3/envs/pytorch_latest_p37/lib/python3.7/site-packages/pip/_internal/index/collector.py\", line 16, in <module>\n",
      "      from pip._vendor import html5lib, requests\n",
      "    File \"/home/ubuntu/anaconda3/envs/pytorch_latest_p37/lib/python3.7/site-packages/pip/_vendor/requests/__init__.py\", line 123, in <module>\n",
      "      from . import utils\n",
      "    File \"/home/ubuntu/anaconda3/envs/pytorch_latest_p37/lib/python3.7/site-packages/pip/_vendor/requests/utils.py\", line 25, in <module>\n",
      "      from . import certs\n",
      "    File \"/home/ubuntu/anaconda3/envs/pytorch_latest_p37/lib/python3.7/site-packages/pip/_vendor/requests/certs.py\", line 15, in <module>\n",
      "      from pip._vendor.certifi import where\n",
      "    File \"/home/ubuntu/anaconda3/envs/pytorch_latest_p37/lib/python3.7/site-packages/pip/_vendor/certifi/__init__.py\", line 1, in <module>\n",
      "      from .core import contents, where\n",
      "    File \"/home/ubuntu/anaconda3/envs/pytorch_latest_p37/lib/python3.7/site-packages/pip/_vendor/certifi/core.py\", line 12, in <module>\n",
      "      from importlib.resources import path as get_path, read_text\n",
      "    File \"/home/ubuntu/anaconda3/envs/pytorch_latest_p37/lib/python3.7/importlib/resources.py\", line 11, in <module>\n",
      "      from typing import Iterable, Iterator, Optional, Set, Union   # noqa: F401\n",
      "    File \"/home/ubuntu/anaconda3/envs/pytorch_latest_p37/lib/python3.7/site-packages/typing.py\", line 1359, in <module>\n",
      "      class Callable(extra=collections_abc.Callable, metaclass=CallableMeta):\n",
      "    File \"/home/ubuntu/anaconda3/envs/pytorch_latest_p37/lib/python3.7/site-packages/typing.py\", line 1007, in __new__\n",
      "      self._abc_registry = extra._abc_registry\n",
      "  AttributeError: type object 'Callable' has no attribute '_abc_registry'\n",
      "  ----------------------------------------\u001b[0m\n",
      "\u001b[33mWARNING: Discarding https://files.pythonhosted.org/packages/03/a5/15a0da6b0150b8b68610cc78af80364a80a9a4c8b6dd5ee549b8989d4b60/pyLDAvis-3.3.1.tar.gz#sha256=f181b88401f6f8f17d5a99ab69ef99b2c496faa276919262f8ec246307b7050c (from https://pypi.org/simple/pyldavis/). Command errored out with exit status 1: /home/ubuntu/anaconda3/envs/pytorch_latest_p37/bin/python3.7 /home/ubuntu/anaconda3/envs/pytorch_latest_p37/lib/python3.7/site-packages/pip install --ignore-installed --no-user --prefix /tmp/pip-build-env-sc1nrt27/overlay --no-warn-script-location --no-binary :none: --only-binary :none: -i https://pypi.org/simple -- setuptools Check the logs for full command output.\u001b[0m\n",
      "\u001b[?25h  Downloading pyLDAvis-3.3.0.tar.gz (1.7 MB)\n",
      "\u001b[K     |████████████████████████████████| 1.7 MB 93.4 MB/s eta 0:00:01\n",
      "\u001b[?25h  Installing build dependencies ... \u001b[?25lerror\n",
      "\u001b[31m  ERROR: Command errored out with exit status 1:\n",
      "   command: /home/ubuntu/anaconda3/envs/pytorch_latest_p37/bin/python3.7 /home/ubuntu/anaconda3/envs/pytorch_latest_p37/lib/python3.7/site-packages/pip install --ignore-installed --no-user --prefix /tmp/pip-build-env-ud0k3yzx/overlay --no-warn-script-location --no-binary :none: --only-binary :none: -i https://pypi.org/simple -- setuptools\n",
      "       cwd: None\n",
      "  Complete output (42 lines):\n",
      "  Traceback (most recent call last):\n",
      "    File \"/home/ubuntu/anaconda3/envs/pytorch_latest_p37/lib/python3.7/runpy.py\", line 193, in _run_module_as_main\n",
      "      \"__main__\", mod_spec)\n",
      "    File \"/home/ubuntu/anaconda3/envs/pytorch_latest_p37/lib/python3.7/runpy.py\", line 85, in _run_code\n",
      "      exec(code, run_globals)\n",
      "    File \"/home/ubuntu/anaconda3/envs/pytorch_latest_p37/lib/python3.7/site-packages/pip/__main__.py\", line 24, in <module>\n",
      "      sys.exit(_main())\n",
      "    File \"/home/ubuntu/anaconda3/envs/pytorch_latest_p37/lib/python3.7/site-packages/pip/_internal/cli/main.py\", line 71, in main\n",
      "      command = create_command(cmd_name, isolated=(\"--isolated\" in cmd_args))\n",
      "    File \"/home/ubuntu/anaconda3/envs/pytorch_latest_p37/lib/python3.7/site-packages/pip/_internal/commands/__init__.py\", line 96, in create_command\n",
      "      module = importlib.import_module(module_path)\n",
      "    File \"/home/ubuntu/anaconda3/envs/pytorch_latest_p37/lib/python3.7/importlib/__init__.py\", line 127, in import_module\n",
      "      return _bootstrap._gcd_import(name[level:], package, level)\n",
      "    File \"<frozen importlib._bootstrap>\", line 1006, in _gcd_import\n",
      "    File \"<frozen importlib._bootstrap>\", line 983, in _find_and_load\n",
      "    File \"<frozen importlib._bootstrap>\", line 967, in _find_and_load_unlocked\n",
      "    File \"<frozen importlib._bootstrap>\", line 677, in _load_unlocked\n",
      "    File \"<frozen importlib._bootstrap_external>\", line 728, in exec_module\n",
      "    File \"<frozen importlib._bootstrap>\", line 219, in _call_with_frames_removed\n",
      "    File \"/home/ubuntu/anaconda3/envs/pytorch_latest_p37/lib/python3.7/site-packages/pip/_internal/commands/install.py\", line 15, in <module>\n",
      "      from pip._internal.cli.req_command import RequirementCommand, with_cleanup\n",
      "    File \"/home/ubuntu/anaconda3/envs/pytorch_latest_p37/lib/python3.7/site-packages/pip/_internal/cli/req_command.py\", line 16, in <module>\n",
      "      from pip._internal.index.collector import LinkCollector\n",
      "    File \"/home/ubuntu/anaconda3/envs/pytorch_latest_p37/lib/python3.7/site-packages/pip/_internal/index/collector.py\", line 16, in <module>\n",
      "      from pip._vendor import html5lib, requests\n",
      "    File \"/home/ubuntu/anaconda3/envs/pytorch_latest_p37/lib/python3.7/site-packages/pip/_vendor/requests/__init__.py\", line 123, in <module>\n",
      "      from . import utils\n",
      "    File \"/home/ubuntu/anaconda3/envs/pytorch_latest_p37/lib/python3.7/site-packages/pip/_vendor/requests/utils.py\", line 25, in <module>\n",
      "      from . import certs\n",
      "    File \"/home/ubuntu/anaconda3/envs/pytorch_latest_p37/lib/python3.7/site-packages/pip/_vendor/requests/certs.py\", line 15, in <module>\n",
      "      from pip._vendor.certifi import where\n",
      "    File \"/home/ubuntu/anaconda3/envs/pytorch_latest_p37/lib/python3.7/site-packages/pip/_vendor/certifi/__init__.py\", line 1, in <module>\n",
      "      from .core import contents, where\n",
      "    File \"/home/ubuntu/anaconda3/envs/pytorch_latest_p37/lib/python3.7/site-packages/pip/_vendor/certifi/core.py\", line 12, in <module>\n",
      "      from importlib.resources import path as get_path, read_text\n",
      "    File \"/home/ubuntu/anaconda3/envs/pytorch_latest_p37/lib/python3.7/importlib/resources.py\", line 11, in <module>\n",
      "      from typing import Iterable, Iterator, Optional, Set, Union   # noqa: F401\n",
      "    File \"/home/ubuntu/anaconda3/envs/pytorch_latest_p37/lib/python3.7/site-packages/typing.py\", line 1359, in <module>\n",
      "      class Callable(extra=collections_abc.Callable, metaclass=CallableMeta):\n",
      "    File \"/home/ubuntu/anaconda3/envs/pytorch_latest_p37/lib/python3.7/site-packages/typing.py\", line 1007, in __new__\n",
      "      self._abc_registry = extra._abc_registry\n",
      "  AttributeError: type object 'Callable' has no attribute '_abc_registry'\n",
      "  ----------------------------------------\u001b[0m\n",
      "\u001b[33mWARNING: Discarding https://files.pythonhosted.org/packages/7a/f0/0bad54f2ebe51e0aa09c6f69f53204f499b97b35b4d969d2c6644f48d834/pyLDAvis-3.3.0.tar.gz#sha256=828677860409ebf11b6077a4589a30ab94f51dc4b2f8751105aae8d95dd28dd4 (from https://pypi.org/simple/pyldavis/). Command errored out with exit status 1: /home/ubuntu/anaconda3/envs/pytorch_latest_p37/bin/python3.7 /home/ubuntu/anaconda3/envs/pytorch_latest_p37/lib/python3.7/site-packages/pip install --ignore-installed --no-user --prefix /tmp/pip-build-env-ud0k3yzx/overlay --no-warn-script-location --no-binary :none: --only-binary :none: -i https://pypi.org/simple -- setuptools Check the logs for full command output.\u001b[0m\n",
      "\u001b[?25h  Downloading pyLDAvis-3.2.2.tar.gz (1.7 MB)\n",
      "\u001b[K     |████████████████████████████████| 1.7 MB 90.0 MB/s eta 0:00:01\n",
      "\u001b[?25hRequirement already satisfied: wheel>=0.23.0 in /home/ubuntu/anaconda3/envs/pytorch_latest_p37/lib/python3.7/site-packages (from pyLDAvis) (0.36.2)\n",
      "Requirement already satisfied: numpy>=1.9.2 in /home/ubuntu/anaconda3/envs/pytorch_latest_p37/lib/python3.7/site-packages (from pyLDAvis) (1.19.2)\n",
      "Requirement already satisfied: scipy>=0.18.0 in /home/ubuntu/anaconda3/envs/pytorch_latest_p37/lib/python3.7/site-packages (from pyLDAvis) (1.6.1)\n",
      "Requirement already satisfied: joblib>=0.8.4 in /home/ubuntu/anaconda3/envs/pytorch_latest_p37/lib/python3.7/site-packages (from pyLDAvis) (1.0.1)\n",
      "Requirement already satisfied: jinja2>=2.7.2 in /home/ubuntu/anaconda3/envs/pytorch_latest_p37/lib/python3.7/site-packages (from pyLDAvis) (2.11.3)\n",
      "Requirement already satisfied: numexpr in /home/ubuntu/anaconda3/envs/pytorch_latest_p37/lib/python3.7/site-packages (from pyLDAvis) (2.7.3)\n",
      "Requirement already satisfied: future in /home/ubuntu/anaconda3/envs/pytorch_latest_p37/lib/python3.7/site-packages (from pyLDAvis) (0.18.2)\n",
      "Collecting funcy\n",
      "  Downloading funcy-1.15-py2.py3-none-any.whl (32 kB)\n",
      "Requirement already satisfied: pandas>=0.17.0 in /home/ubuntu/anaconda3/envs/pytorch_latest_p37/lib/python3.7/site-packages (from pyLDAvis) (1.2.2)\n",
      "Requirement already satisfied: MarkupSafe>=0.23 in /home/ubuntu/anaconda3/envs/pytorch_latest_p37/lib/python3.7/site-packages (from jinja2>=2.7.2->pyLDAvis) (1.1.1)\n",
      "Requirement already satisfied: python-dateutil>=2.7.3 in /home/ubuntu/anaconda3/envs/pytorch_latest_p37/lib/python3.7/site-packages (from pandas>=0.17.0->pyLDAvis) (2.8.1)\n",
      "Requirement already satisfied: pytz>=2017.3 in /home/ubuntu/anaconda3/envs/pytorch_latest_p37/lib/python3.7/site-packages (from pandas>=0.17.0->pyLDAvis) (2021.1)\n",
      "Requirement already satisfied: six>=1.5 in /home/ubuntu/anaconda3/envs/pytorch_latest_p37/lib/python3.7/site-packages (from python-dateutil>=2.7.3->pandas>=0.17.0->pyLDAvis) (1.15.0)\n",
      "Building wheels for collected packages: pyLDAvis\n",
      "  Building wheel for pyLDAvis (setup.py) ... \u001b[?25ldone\n",
      "\u001b[?25h  Created wheel for pyLDAvis: filename=pyLDAvis-3.2.2-py2.py3-none-any.whl size=135593 sha256=83f3cccc632f0ee2150761a043e3425992c5b32c2e67b8482f0f05a0595eb641\n",
      "  Stored in directory: /home/ubuntu/.cache/pip/wheels/f8/b1/9b/560ac1931796b7303f7b517b949d2d31a4fbc512aad3b9f284\n",
      "Successfully built pyLDAvis\n",
      "Installing collected packages: funcy, pyLDAvis\n",
      "Successfully installed funcy-1.15 pyLDAvis-3.2.2\n"
     ]
    }
   ],
   "source": [
    "!pip install pyLDAvis"
   ]
  },
  {
   "cell_type": "code",
   "execution_count": null,
   "id": "statutory-trustee",
   "metadata": {},
   "outputs": [],
   "source": []
  },
  {
   "cell_type": "code",
   "execution_count": 5,
   "id": "southeast-defeat",
   "metadata": {},
   "outputs": [
    {
     "name": "stderr",
     "output_type": "stream",
     "text": [
      "[nltk_data] Downloading package wordnet to /home/ubuntu/nltk_data...\n",
      "[nltk_data]   Package wordnet is already up-to-date!\n"
     ]
    }
   ],
   "source": [
    "import pandas as pd\n",
    "import numpy as np\n",
    "\n",
    "#gensim\n",
    "import gensim\n",
    "from gensim.utils import simple_preprocess\n",
    "from gensim.parsing.preprocessing import STOPWORDS\n",
    "import gensim.corpora as corpora\n",
    "from gensim.models import CoherenceModel\n",
    "\n",
    "#nltk\n",
    "from nltk.stem import WordNetLemmatizer, SnowballStemmer\n",
    "from nltk.stem.porter import *\n",
    "import nltk\n",
    "nltk.download('wordnet')\n",
    "\n",
    "# Plotting tools\n",
    "import pyLDAvis\n",
    "import pyLDAvis.gensim  # don't skip this\n",
    "import matplotlib.pyplot as plt\n",
    "%matplotlib inline\n",
    "\n",
    "import warnings\n",
    "warnings.filterwarnings(\"ignore\",category=DeprecationWarning)"
   ]
  },
  {
   "cell_type": "code",
   "execution_count": null,
   "id": "closed-sample",
   "metadata": {},
   "outputs": [],
   "source": []
  },
  {
   "cell_type": "code",
   "execution_count": null,
   "id": "thick-colors",
   "metadata": {},
   "outputs": [],
   "source": []
  },
  {
   "cell_type": "markdown",
   "id": "intermediate-recommendation",
   "metadata": {},
   "source": [
    "#### Prepare the data"
   ]
  },
  {
   "cell_type": "code",
   "execution_count": null,
   "id": "sapphire-microphone",
   "metadata": {},
   "outputs": [],
   "source": [
    "num_features = 2000\n",
    "\n",
    "# LDA can only use raw term counts\n",
    "tf_vectorizer = CountVectorizer(max_df=0.95, min_df=2, max_features=num_features, stop_words='english')\n",
    "tf = tf_vectorizer.fit_transform(documents)"
   ]
  },
  {
   "cell_type": "code",
   "execution_count": null,
   "id": "indie-hunter",
   "metadata": {},
   "outputs": [],
   "source": [
    "tf_feature_names = tf_vectorizer.get_feature_names() #these are the words in our bag of words"
   ]
  },
  {
   "cell_type": "code",
   "execution_count": 7,
   "id": "labeled-thumbnail",
   "metadata": {},
   "outputs": [],
   "source": [
    "NUM_TOPICS = 10\n",
    " \n",
    "vectorizer = CountVectorizer(min_df=5, max_df=0.9, \n",
    "                             stop_words='english', lowercase=True, \n",
    "                             token_pattern='[a-zA-Z\\-][a-zA-Z\\-]{2,}')\n",
    "data_vectorized = vectorizer.fit_transform(data)"
   ]
  },
  {
   "cell_type": "markdown",
   "id": "brazilian-evaluation",
   "metadata": {},
   "source": [
    "#### Build the model"
   ]
  },
  {
   "cell_type": "code",
   "execution_count": null,
   "id": "registered-georgia",
   "metadata": {},
   "outputs": [],
   "source": [
    "num_topics = 10\n",
    "\n",
    "# Run LDA\n",
    "lda = LatentDirichletAllocation(n_components=num_topics, max_iter=5, learning_method='online',random_state=0, n_jobs=-1)\n",
    "lda.fit(tf)"
   ]
  }
 ],
 "metadata": {
  "kernelspec": {
   "display_name": "Environment (conda_pytorch_latest_p37)",
   "language": "python",
   "name": "conda_pytorch_latest_p37"
  },
  "language_info": {
   "codemirror_mode": {
    "name": "ipython",
    "version": 3
   },
   "file_extension": ".py",
   "mimetype": "text/x-python",
   "name": "python",
   "nbconvert_exporter": "python",
   "pygments_lexer": "ipython3",
   "version": "3.7.10"
  }
 },
 "nbformat": 4,
 "nbformat_minor": 5
}
