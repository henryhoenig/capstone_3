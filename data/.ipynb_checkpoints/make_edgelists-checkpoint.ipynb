{
 "cells": [
  {
   "cell_type": "code",
   "execution_count": 30,
   "id": "limited-somalia",
   "metadata": {},
   "outputs": [],
   "source": [
    "import pandas as pd\n",
    "import networkx as nx\n",
    "import matplotlib.pyplot as plt"
   ]
  },
  {
   "cell_type": "code",
   "execution_count": 31,
   "id": "strategic-desktop",
   "metadata": {},
   "outputs": [],
   "source": [
    "df = pd.read_csv('small_hashtag_gephi.csv', header=None)"
   ]
  },
  {
   "cell_type": "code",
   "execution_count": 39,
   "id": "graduate-malpractice",
   "metadata": {},
   "outputs": [],
   "source": [
    "df2 = df[0:29]"
   ]
  },
  {
   "cell_type": "code",
   "execution_count": 44,
   "id": "authorized-physics",
   "metadata": {},
   "outputs": [
    {
     "data": {
      "text/plain": [
       "pandas.core.frame.DataFrame"
      ]
     },
     "execution_count": 44,
     "metadata": {},
     "output_type": "execute_result"
    }
   ],
   "source": [
    "type(df2)"
   ]
  },
  {
   "cell_type": "code",
   "execution_count": 40,
   "id": "talented-search",
   "metadata": {},
   "outputs": [],
   "source": [
    "pd.options.display.max_columns = 20"
   ]
  },
  {
   "cell_type": "code",
   "execution_count": 45,
   "id": "stunning-nursing",
   "metadata": {},
   "outputs": [
    {
     "name": "stdout",
     "output_type": "stream",
     "text": [
      "Name: Graph from pandas adjacency matrix\n",
      "Type: Graph\n",
      "Number of nodes: 2\n",
      "Number of edges: 3\n",
      "Average degree:   3.0000\n"
     ]
    }
   ],
   "source": [
    "df3 = pd.DataFrame([[1, 1], [2, 1]])\n",
    "df3\n",
    "G = nx.from_pandas_adjacency(df3)\n",
    "G.name = \"Graph from pandas adjacency matrix\"\n",
    "print(nx.info(G))"
   ]
  },
  {
   "cell_type": "code",
   "execution_count": null,
   "id": "technological-pepper",
   "metadata": {},
   "outputs": [],
   "source": []
  },
  {
   "cell_type": "code",
   "execution_count": null,
   "id": "finished-rolling",
   "metadata": {},
   "outputs": [],
   "source": []
  }
 ],
 "metadata": {
  "kernelspec": {
   "display_name": "Environment (conda_tensorflow2_latest_p37)",
   "language": "python",
   "name": "conda_tensorflow2_latest_p37"
  },
  "language_info": {
   "codemirror_mode": {
    "name": "ipython",
    "version": 3
   },
   "file_extension": ".py",
   "mimetype": "text/x-python",
   "name": "python",
   "nbconvert_exporter": "python",
   "pygments_lexer": "ipython3",
   "version": "3.7.10"
  }
 },
 "nbformat": 4,
 "nbformat_minor": 5
}
