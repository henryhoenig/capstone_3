{
 "cells": [
  {
   "cell_type": "code",
   "execution_count": 89,
   "id": "latin-karen",
   "metadata": {},
   "outputs": [],
   "source": [
    "import pandas as pd\n",
    "import networkx as nx\n",
    "import matplotlib.pyplot as plt\n",
    "import itertools\n",
    "from itertools import combinations"
   ]
  },
  {
   "cell_type": "code",
   "execution_count": 204,
   "id": "stopped-implementation",
   "metadata": {},
   "outputs": [
    {
     "name": "stderr",
     "output_type": "stream",
     "text": [
      "/home/ubuntu/anaconda3/envs/tensorflow2_latest_p37/lib/python3.7/site-packages/IPython/core/interactiveshell.py:3156: DtypeWarning: Columns (24,25,26,27,28,29,30,31,32,33,34,35,36,37) have mixed types.Specify dtype option on import or set low_memory=False.\n",
      "  interactivity=interactivity, compiler=compiler, result=result)\n"
     ]
    }
   ],
   "source": [
    "df = pd.read_csv('hashtag_gephi.csv', header=None)"
   ]
  },
  {
   "cell_type": "code",
   "execution_count": 205,
   "id": "diverse-financing",
   "metadata": {},
   "outputs": [
    {
     "data": {
      "text/html": [
       "<div>\n",
       "<style scoped>\n",
       "    .dataframe tbody tr th:only-of-type {\n",
       "        vertical-align: middle;\n",
       "    }\n",
       "\n",
       "    .dataframe tbody tr th {\n",
       "        vertical-align: top;\n",
       "    }\n",
       "\n",
       "    .dataframe thead th {\n",
       "        text-align: right;\n",
       "    }\n",
       "</style>\n",
       "<table border=\"1\" class=\"dataframe\">\n",
       "  <thead>\n",
       "    <tr style=\"text-align: right;\">\n",
       "      <th></th>\n",
       "      <th>0</th>\n",
       "      <th>1</th>\n",
       "      <th>2</th>\n",
       "      <th>3</th>\n",
       "      <th>4</th>\n",
       "      <th>5</th>\n",
       "      <th>6</th>\n",
       "      <th>7</th>\n",
       "      <th>8</th>\n",
       "      <th>9</th>\n",
       "      <th>...</th>\n",
       "      <th>28</th>\n",
       "      <th>29</th>\n",
       "      <th>30</th>\n",
       "      <th>31</th>\n",
       "      <th>32</th>\n",
       "      <th>33</th>\n",
       "      <th>34</th>\n",
       "      <th>35</th>\n",
       "      <th>36</th>\n",
       "      <th>37</th>\n",
       "    </tr>\n",
       "  </thead>\n",
       "  <tbody>\n",
       "    <tr>\n",
       "      <th>0</th>\n",
       "      <td>0</td>\n",
       "      <td>1</td>\n",
       "      <td>2</td>\n",
       "      <td>3</td>\n",
       "      <td>4</td>\n",
       "      <td>5</td>\n",
       "      <td>6</td>\n",
       "      <td>7</td>\n",
       "      <td>8</td>\n",
       "      <td>9</td>\n",
       "      <td>...</td>\n",
       "      <td>28</td>\n",
       "      <td>29.0</td>\n",
       "      <td>30.0</td>\n",
       "      <td>31.0</td>\n",
       "      <td>32.0</td>\n",
       "      <td>33.0</td>\n",
       "      <td>34.0</td>\n",
       "      <td>35.0</td>\n",
       "      <td>36.0</td>\n",
       "      <td>37.0</td>\n",
       "    </tr>\n",
       "    <tr>\n",
       "      <th>1</th>\n",
       "      <td>americafirst</td>\n",
       "      <td>stopthesteal</td>\n",
       "      <td>auditallvotes</td>\n",
       "      <td>NaN</td>\n",
       "      <td>NaN</td>\n",
       "      <td>NaN</td>\n",
       "      <td>NaN</td>\n",
       "      <td>NaN</td>\n",
       "      <td>NaN</td>\n",
       "      <td>NaN</td>\n",
       "      <td>...</td>\n",
       "      <td>NaN</td>\n",
       "      <td>NaN</td>\n",
       "      <td>NaN</td>\n",
       "      <td>NaN</td>\n",
       "      <td>NaN</td>\n",
       "      <td>NaN</td>\n",
       "      <td>NaN</td>\n",
       "      <td>NaN</td>\n",
       "      <td>NaN</td>\n",
       "      <td>NaN</td>\n",
       "    </tr>\n",
       "    <tr>\n",
       "      <th>2</th>\n",
       "      <td>wynk</td>\n",
       "      <td>periscope</td>\n",
       "      <td>proamericareport</td>\n",
       "      <td>joebiden</td>\n",
       "      <td>stopthesteal</td>\n",
       "      <td>NaN</td>\n",
       "      <td>NaN</td>\n",
       "      <td>NaN</td>\n",
       "      <td>NaN</td>\n",
       "      <td>NaN</td>\n",
       "      <td>...</td>\n",
       "      <td>NaN</td>\n",
       "      <td>NaN</td>\n",
       "      <td>NaN</td>\n",
       "      <td>NaN</td>\n",
       "      <td>NaN</td>\n",
       "      <td>NaN</td>\n",
       "      <td>NaN</td>\n",
       "      <td>NaN</td>\n",
       "      <td>NaN</td>\n",
       "      <td>NaN</td>\n",
       "    </tr>\n",
       "  </tbody>\n",
       "</table>\n",
       "<p>3 rows × 38 columns</p>\n",
       "</div>"
      ],
      "text/plain": [
       "             0             1                 2         3             4    5   \\\n",
       "0             0             1                 2         3             4    5   \n",
       "1  americafirst  stopthesteal     auditallvotes       NaN           NaN  NaN   \n",
       "2          wynk     periscope  proamericareport  joebiden  stopthesteal  NaN   \n",
       "\n",
       "    6    7    8    9   ...   28    29    30    31    32    33    34    35  \\\n",
       "0    6    7    8    9  ...   28  29.0  30.0  31.0  32.0  33.0  34.0  35.0   \n",
       "1  NaN  NaN  NaN  NaN  ...  NaN   NaN   NaN   NaN   NaN   NaN   NaN   NaN   \n",
       "2  NaN  NaN  NaN  NaN  ...  NaN   NaN   NaN   NaN   NaN   NaN   NaN   NaN   \n",
       "\n",
       "     36    37  \n",
       "0  36.0  37.0  \n",
       "1   NaN   NaN  \n",
       "2   NaN   NaN  \n",
       "\n",
       "[3 rows x 38 columns]"
      ]
     },
     "execution_count": 205,
     "metadata": {},
     "output_type": "execute_result"
    }
   ],
   "source": [
    "df.head(3)"
   ]
  },
  {
   "cell_type": "code",
   "execution_count": 206,
   "id": "hired-problem",
   "metadata": {},
   "outputs": [],
   "source": [
    "pd.options.display.max_columns = 20"
   ]
  },
  {
   "cell_type": "code",
   "execution_count": 207,
   "id": "amino-trout",
   "metadata": {},
   "outputs": [],
   "source": [
    "pd.options.display.max_rows = 100"
   ]
  },
  {
   "cell_type": "code",
   "execution_count": 208,
   "id": "divided-conclusion",
   "metadata": {},
   "outputs": [
    {
     "data": {
      "text/plain": [
       "(179924, 38)"
      ]
     },
     "execution_count": 208,
     "metadata": {},
     "output_type": "execute_result"
    }
   ],
   "source": [
    "df.shape"
   ]
  },
  {
   "cell_type": "code",
   "execution_count": 98,
   "id": "analyzed-garlic",
   "metadata": {},
   "outputs": [],
   "source": [
    "# # tester df\n",
    "# df2=df[0:5]"
   ]
  },
  {
   "cell_type": "code",
   "execution_count": null,
   "id": "specified-grain",
   "metadata": {},
   "outputs": [],
   "source": []
  },
  {
   "cell_type": "markdown",
   "id": "assigned-invitation",
   "metadata": {},
   "source": [
    "* Go through df row by row\n",
    "* For each row, make a pair of tuples (edges) for each item in the row (permutations)\n",
    "* Put first row of edges into new dataframe (df_edges)\n",
    "* From then on, concatenate each new row of tuples onto df_edges\n",
    "* Once done, groupby to count\n",
    "* Put those you want to keep into new dataframe"
   ]
  },
  {
   "cell_type": "code",
   "execution_count": 99,
   "id": "familiar-executive",
   "metadata": {},
   "outputs": [
    {
     "name": "stdout",
     "output_type": "stream",
     "text": [
      "['americafirst', 'stopthesteal', 'auditallvotes']\n",
      "['wynk', 'periscope', 'proamericareport', 'joebiden', 'stopthesteal']\n",
      "['stopthesteal', 'wethepeople', 'maga']\n",
      "['stopthesteai2021', 'stopthesteai2020', 'stopthesteal', 'maga']\n",
      "['prayfortrump', 'prayforamerica', 'saveamerica', 'lockyhemup', 'holdaccountable', 'stopthesteal', 'corruptdemocrats', 'antifa', 'domesticterrorists']\n"
     ]
    }
   ],
   "source": [
    "# # strips out single hashtags by row/tweet\n",
    "# for index, row in df2.iterrows():\n",
    "#     hold = [x for x in row.values if x == x]\n",
    "#     print(hold)"
   ]
  },
  {
   "cell_type": "code",
   "execution_count": 123,
   "id": "naked-construction",
   "metadata": {},
   "outputs": [
    {
     "name": "stdout",
     "output_type": "stream",
     "text": [
      "[('americafirst', 'stopthesteal'), ('americafirst', 'auditallvotes'), ('stopthesteal', 'auditallvotes')]\n",
      "[('wynk', 'periscope'), ('wynk', 'proamericareport'), ('wynk', 'joebiden'), ('wynk', 'stopthesteal'), ('periscope', 'proamericareport'), ('periscope', 'joebiden'), ('periscope', 'stopthesteal'), ('proamericareport', 'joebiden'), ('proamericareport', 'stopthesteal'), ('joebiden', 'stopthesteal')]\n",
      "[('stopthesteal', 'wethepeople'), ('stopthesteal', 'maga'), ('wethepeople', 'maga')]\n",
      "[('stopthesteai2021', 'stopthesteai2020'), ('stopthesteai2021', 'stopthesteal'), ('stopthesteai2021', 'maga'), ('stopthesteai2020', 'stopthesteal'), ('stopthesteai2020', 'maga'), ('stopthesteal', 'maga')]\n",
      "[('prayfortrump', 'prayforamerica'), ('prayfortrump', 'saveamerica'), ('prayfortrump', 'lockyhemup'), ('prayfortrump', 'holdaccountable'), ('prayfortrump', 'stopthesteal'), ('prayfortrump', 'corruptdemocrats'), ('prayfortrump', 'antifa'), ('prayfortrump', 'domesticterrorists'), ('prayforamerica', 'saveamerica'), ('prayforamerica', 'lockyhemup'), ('prayforamerica', 'holdaccountable'), ('prayforamerica', 'stopthesteal'), ('prayforamerica', 'corruptdemocrats'), ('prayforamerica', 'antifa'), ('prayforamerica', 'domesticterrorists'), ('saveamerica', 'lockyhemup'), ('saveamerica', 'holdaccountable'), ('saveamerica', 'stopthesteal'), ('saveamerica', 'corruptdemocrats'), ('saveamerica', 'antifa'), ('saveamerica', 'domesticterrorists'), ('lockyhemup', 'holdaccountable'), ('lockyhemup', 'stopthesteal'), ('lockyhemup', 'corruptdemocrats'), ('lockyhemup', 'antifa'), ('lockyhemup', 'domesticterrorists'), ('holdaccountable', 'stopthesteal'), ('holdaccountable', 'corruptdemocrats'), ('holdaccountable', 'antifa'), ('holdaccountable', 'domesticterrorists'), ('stopthesteal', 'corruptdemocrats'), ('stopthesteal', 'antifa'), ('stopthesteal', 'domesticterrorists'), ('corruptdemocrats', 'antifa'), ('corruptdemocrats', 'domesticterrorists'), ('antifa', 'domesticterrorists')]\n"
     ]
    }
   ],
   "source": [
    "## Working code for combinations\n",
    "\n",
    "# for index, row in df2.iterrows():\n",
    "#     hold = [x for x in row.values if x == x]\n",
    "#     edges = (list(combinations(hold, 2)))\n",
    "#     print(edges)"
   ]
  },
  {
   "cell_type": "code",
   "execution_count": 163,
   "id": "liable-wesley",
   "metadata": {},
   "outputs": [],
   "source": []
  },
  {
   "cell_type": "code",
   "execution_count": 209,
   "id": "pleasant-things",
   "metadata": {},
   "outputs": [],
   "source": [
    "# make edges for hashtags\n",
    "\n",
    "edges_df = pd.DataFrame([None, None])\n",
    "for index, row in df.iterrows():\n",
    "    hold = [x for x in row.values if x == x]\n",
    "    edges = (list(combinations(hold, 2)))\n",
    "    edges_series=pd.Series(edges)\n",
    "    new_edges_df = pd.DataFrame(edges_series)\n",
    "    edges_df = edges_df.append(new_edges_df, ignore_index=True)"
   ]
  },
  {
   "cell_type": "code",
   "execution_count": 210,
   "id": "spanish-appliance",
   "metadata": {},
   "outputs": [
    {
     "data": {
      "text/plain": [
       "2259037"
      ]
     },
     "execution_count": 210,
     "metadata": {},
     "output_type": "execute_result"
    }
   ],
   "source": [
    "len(edges_df)"
   ]
  },
  {
   "cell_type": "code",
   "execution_count": 201,
   "id": "signed-contractor",
   "metadata": {},
   "outputs": [
    {
     "data": {
      "text/plain": [
       "0                                           None\n",
       "1                                           None\n",
       "2                   (americafirst, stopthesteal)\n",
       "3                  (americafirst, auditallvotes)\n",
       "4                  (stopthesteal, auditallvotes)\n",
       "                           ...                  \n",
       "107835              (stopthesteal, washingtondc)\n",
       "107836                 (trump2020, washingtondc)\n",
       "107837             (𝖳𝗋𝗎𝗍𝗁𝖬𝖺𝗏𝖾𝗋𝗂𝖼𝗄, stopthesteal)\n",
       "107838             (stopthesteal, marchfortrump)\n",
       "107839    (trump2020tosaveamerica, stopthesteal)\n",
       "Name: 0, Length: 107840, dtype: object"
      ]
     },
     "execution_count": 201,
     "metadata": {},
     "output_type": "execute_result"
    }
   ],
   "source": [
    "edges_df[0]"
   ]
  },
  {
   "cell_type": "code",
   "execution_count": 211,
   "id": "preliminary-breath",
   "metadata": {},
   "outputs": [],
   "source": [
    "edges_df.to_csv('hashtag_edges_long.csv', index=False)"
   ]
  },
  {
   "cell_type": "code",
   "execution_count": null,
   "id": "decimal-romance",
   "metadata": {},
   "outputs": [],
   "source": []
  }
 ],
 "metadata": {
  "kernelspec": {
   "display_name": "Environment (conda_tensorflow2_latest_p37)",
   "language": "python",
   "name": "conda_tensorflow2_latest_p37"
  },
  "language_info": {
   "codemirror_mode": {
    "name": "ipython",
    "version": 3
   },
   "file_extension": ".py",
   "mimetype": "text/x-python",
   "name": "python",
   "nbconvert_exporter": "python",
   "pygments_lexer": "ipython3",
   "version": "3.7.10"
  }
 },
 "nbformat": 4,
 "nbformat_minor": 5
}
