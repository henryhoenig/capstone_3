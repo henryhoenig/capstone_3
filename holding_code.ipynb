{
 "cells": [
  {
   "cell_type": "code",
   "execution_count": null,
   "id": "parliamentary-recruitment",
   "metadata": {},
   "outputs": [],
   "source": [
    "master_mentions_list = []\n",
    "for i in mentions:          # i is single string, sometimes containing only [], sometimes multiple entries\n",
    "    i = i.split(\"}, \")      # splits by entry (each entry is dict of len 3); empty i or i with only one name won't get split, will filter\n",
    "#    print(i)\n",
    "#     print(len(i))\n",
    "    if len(i) < 2:          # ie, if didn't split because only one entry, skip\n",
    "        continue\n",
    "    else:\n",
    "#        print(i)\n",
    "        name_list = []      # moved up from new creation for each j (this likely the biggest problem): ie, under \"for j in i\"\n",
    "        for j in i:         # at this point, i is still a list of multiple mentions, with j as each element of list a single FULL entry\n",
    "#             print(j)\n",
    "#             print(0)\n",
    "            j = j.split(\", \") # splits each entry j between screen name half and name half\n",
    "#             print(j)\n",
    "#             print(len(j))\n",
    "            j = j[1].replace(\"'\", \"\")    # assigns name half of j to j, stripping some punctuation\n",
    "            j = j.replace(\":\", \"\")       # more cleaning of punctuation\n",
    "#            print(j)\n",
    "            j = j.split(\"name \")         # now splits \"name half\" of j btween \"name \" and actual name, creating new 2-element list\n",
    "            name = j[1]                  # assigns name to second element of new list (actual name) \n",
    "#            print(name)\n",
    "            name_list.append(name)       # appends name to name_list, which should contain all names mentioned in a given tweet (original i in mentions)\n",
    "    master_mentions_list.append(name_list) # once all names in single entry appended to name_list, this list appended to master, then return to outer for loop\n",
    "                                            # in test case, there should be two lists (only two tweets in first 10 contained more than one mention)\n",
    "print(master_mentions_list)\n",
    "print(len(master_mentions_list))\n",
    "for n in master_mentions_list:\n",
    "    for k in n:\n",
    "        print(k)"
   ]
  },
  {
   "cell_type": "code",
   "execution_count": null,
   "id": "terminal-preserve",
   "metadata": {},
   "outputs": [],
   "source": [
    "# can append a series as a row; use ignore_index=True\n",
    "\n",
    "s2 = pd.Series([\"X0\", \"X1\", \"X2\", \"X3\"], index=[\"A\", \"B\", \"C\", \"D\"])\n",
    "\n",
    "result = df1.append(s2, ignore_index=True)\n",
    "\n",
    "\n",
    "concatenated = pandas.concat([df1, df2])\n",
    "\n",
    "\n",
    "# To use .append(), you call it on one of the datasets you have available and pass the other dataset (or a list of datasets) \n",
    "# as an argument to the method:\n",
    "\n",
    "concatenated = df1.append(df2)\n",
    "\n",
    "\n",
    "vertical_stack = pd.concat([survey_sub, survey_sub_last10], axis=0)"
   ]
  },
  {
   "cell_type": "code",
   "execution_count": null,
   "id": "north-intent",
   "metadata": {},
   "outputs": [],
   "source": [
    "dumb_df = pd.DataFrame()\n",
    "lst = [['f','g']]\n",
    "dumb_df = dumb_df.append(pd.DataFrame(lst),ignore_index=True)\n",
    "dumb_df\n",
    "\n",
    "dumb_df = dumb_df.append(pd.DataFrame(lst),ignore_index=True)"
   ]
  },
  {
   "cell_type": "code",
   "execution_count": null,
   "id": "wrapped-clinton",
   "metadata": {},
   "outputs": [],
   "source": [
    "edges_df = pd.DataFrame()\n",
    "count = 0\n",
    "for index, row in df2.iterrows():\n",
    "    count += 1\n",
    "    hold = [x for x in row.values if x == x]\n",
    "    if count == 1:\n",
    "        edges = (list(combinations(hold, 2)))\n",
    "        edges_series=pd.Series(edges)\n",
    "        edges_df = pd.DataFrame(edges_series)\n",
    "        \n",
    "# above block returns one-dimensional dataframe        \n",
    "        \n",
    "        continue\n",
    "    else:\n",
    "        edges = (list(combinations(hold, 2)))\n",
    "        edges_series = pd.Series(edges)\n",
    "        new_edges_df = pd.DataFrame(edges_series)\n",
    "        pd.concat([edges_df, new_edges_df], sort=False, ignore_index=True)"
   ]
  },
  {
   "cell_type": "code",
   "execution_count": 1,
   "id": "committed-championship",
   "metadata": {},
   "outputs": [
    {
     "name": "stdout",
     "output_type": "stream",
     "text": [
      "t\n"
     ]
    }
   ],
   "source": [
    "print('t')"
   ]
  },
  {
   "cell_type": "code",
   "execution_count": 2,
   "id": "welcome-stocks",
   "metadata": {},
   "outputs": [
    {
     "data": {
      "text/plain": [
       "int"
      ]
     },
     "execution_count": 2,
     "metadata": {},
     "output_type": "execute_result"
    }
   ],
   "source": [
    "type(0)"
   ]
  },
  {
   "cell_type": "code",
   "execution_count": null,
   "id": "brave-pension",
   "metadata": {},
   "outputs": [],
   "source": []
  }
 ],
 "metadata": {
  "kernelspec": {
   "display_name": "Python 3",
   "language": "python",
   "name": "python3"
  },
  "language_info": {
   "codemirror_mode": {
    "name": "ipython",
    "version": 3
   },
   "file_extension": ".py",
   "mimetype": "text/x-python",
   "name": "python",
   "nbconvert_exporter": "python",
   "pygments_lexer": "ipython3",
   "version": "3.7.10"
  }
 },
 "nbformat": 4,
 "nbformat_minor": 5
}
