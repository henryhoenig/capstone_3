{
 "cells": [
  {
   "cell_type": "code",
   "execution_count": 30,
   "id": "dutch-discussion",
   "metadata": {},
   "outputs": [],
   "source": [
    "import pandas as pd\n",
    "import numpy as np"
   ]
  },
  {
   "cell_type": "code",
   "execution_count": 31,
   "id": "hungarian-projector",
   "metadata": {
    "scrolled": true
   },
   "outputs": [],
   "source": [
    "df = pd.read_csv('data/stop_steal_notDC.csv')"
   ]
  },
  {
   "cell_type": "code",
   "execution_count": 32,
   "id": "acknowledged-creek",
   "metadata": {},
   "outputs": [],
   "source": [
    "pd.set_option('display.max_columns', None)"
   ]
  },
  {
   "cell_type": "code",
   "execution_count": 33,
   "id": "civic-mining",
   "metadata": {},
   "outputs": [],
   "source": [
    "#drop unneeded columns\n",
    "df.drop(columns=['time', 'photos', 'video', 'timezone', 'place', 'language', 'cashtags', 'thumbnail', 'near', 'geo', 'source', 'user_rt_id', 'user_rt', 'retweet_id', 'retweet_date', 'translate', 'trans_src', 'trans_dest'], inplace=True)"
   ]
  },
  {
   "cell_type": "code",
   "execution_count": 34,
   "id": "greater-sampling",
   "metadata": {},
   "outputs": [],
   "source": [
    "pd.set_option('display.max_rows', 50)"
   ]
  },
  {
   "cell_type": "code",
   "execution_count": 35,
   "id": "tutorial-detection",
   "metadata": {},
   "outputs": [
    {
     "data": {
      "text/plain": [
       "(16180, 18)"
      ]
     },
     "execution_count": 35,
     "metadata": {},
     "output_type": "execute_result"
    }
   ],
   "source": [
    "df.shape"
   ]
  },
  {
   "cell_type": "code",
   "execution_count": 36,
   "id": "minor-blackjack",
   "metadata": {},
   "outputs": [
    {
     "name": "stdout",
     "output_type": "stream",
     "text": [
      "<class 'pandas.core.frame.DataFrame'>\n",
      "RangeIndex: 16180 entries, 0 to 16179\n",
      "Data columns (total 18 columns):\n",
      " #   Column           Non-Null Count  Dtype  \n",
      "---  ------           --------------  -----  \n",
      " 0   id               16180 non-null  float64\n",
      " 1   conversation_id  16180 non-null  float64\n",
      " 2   created_at       16180 non-null  object \n",
      " 3   date             16180 non-null  object \n",
      " 4   user_id          16180 non-null  float64\n",
      " 5   username         16180 non-null  object \n",
      " 6   name             16174 non-null  object \n",
      " 7   tweet            16180 non-null  object \n",
      " 8   mentions         16180 non-null  object \n",
      " 9   urls             16180 non-null  object \n",
      " 10  replies_count    16180 non-null  int64  \n",
      " 11  retweets_count   16180 non-null  int64  \n",
      " 12  likes_count      16180 non-null  int64  \n",
      " 13  hashtags         16180 non-null  object \n",
      " 14  link             16180 non-null  object \n",
      " 15  retweet          16180 non-null  bool   \n",
      " 16  quote_url        2906 non-null   object \n",
      " 17  reply_to         16180 non-null  object \n",
      "dtypes: bool(1), float64(3), int64(3), object(11)\n",
      "memory usage: 2.1+ MB\n"
     ]
    }
   ],
   "source": [
    "df.info()"
   ]
  },
  {
   "cell_type": "code",
   "execution_count": 37,
   "id": "accredited-binding",
   "metadata": {},
   "outputs": [],
   "source": [
    "# Each row in hashtags columns is a single string\n",
    "# Code below cleans, makes lists of strings"
   ]
  },
  {
   "cell_type": "code",
   "execution_count": null,
   "id": "satellite-fleece",
   "metadata": {},
   "outputs": [],
   "source": []
  },
  {
   "cell_type": "code",
   "execution_count": 38,
   "id": "entertaining-termination",
   "metadata": {},
   "outputs": [],
   "source": [
    "columnSeriesObj = df['hashtags']\n",
    "tags = columnSeriesObj"
   ]
  },
  {
   "cell_type": "code",
   "execution_count": 39,
   "id": "fitting-perspective",
   "metadata": {},
   "outputs": [],
   "source": [
    "master_list = []\n",
    "for i in tags:\n",
    "    i = i.replace(\"[\", \"\")\n",
    "    i = i.replace(\"]\", \"\")\n",
    "    i = i.replace(\"'\", \"\")\n",
    "    i = i.replace(\",\", \"\")\n",
    "    i = i.split(' ')\n",
    "    if len(i) < 2:\n",
    "         continue\n",
    "    else:\n",
    "        i_list = []\n",
    "        for j in i:\n",
    "            i_list.append(j)\n",
    "        master_list.append(i_list)"
   ]
  },
  {
   "cell_type": "code",
   "execution_count": 40,
   "id": "recorded-relations",
   "metadata": {},
   "outputs": [],
   "source": [
    "hashtag_df = pd.DataFrame(master_list)"
   ]
  },
  {
   "cell_type": "code",
   "execution_count": 41,
   "id": "private-business",
   "metadata": {},
   "outputs": [
    {
     "data": {
      "text/html": [
       "<div>\n",
       "<style scoped>\n",
       "    .dataframe tbody tr th:only-of-type {\n",
       "        vertical-align: middle;\n",
       "    }\n",
       "\n",
       "    .dataframe tbody tr th {\n",
       "        vertical-align: top;\n",
       "    }\n",
       "\n",
       "    .dataframe thead th {\n",
       "        text-align: right;\n",
       "    }\n",
       "</style>\n",
       "<table border=\"1\" class=\"dataframe\">\n",
       "  <thead>\n",
       "    <tr style=\"text-align: right;\">\n",
       "      <th></th>\n",
       "      <th>0</th>\n",
       "      <th>1</th>\n",
       "      <th>2</th>\n",
       "      <th>3</th>\n",
       "      <th>4</th>\n",
       "      <th>5</th>\n",
       "      <th>6</th>\n",
       "      <th>7</th>\n",
       "      <th>8</th>\n",
       "      <th>9</th>\n",
       "      <th>10</th>\n",
       "      <th>11</th>\n",
       "      <th>12</th>\n",
       "      <th>13</th>\n",
       "      <th>14</th>\n",
       "      <th>15</th>\n",
       "      <th>16</th>\n",
       "      <th>17</th>\n",
       "      <th>18</th>\n",
       "      <th>19</th>\n",
       "      <th>20</th>\n",
       "      <th>21</th>\n",
       "      <th>22</th>\n",
       "      <th>23</th>\n",
       "      <th>24</th>\n",
       "      <th>25</th>\n",
       "      <th>26</th>\n",
       "      <th>27</th>\n",
       "      <th>28</th>\n",
       "    </tr>\n",
       "  </thead>\n",
       "  <tbody>\n",
       "    <tr>\n",
       "      <th>0</th>\n",
       "      <td>americafirst</td>\n",
       "      <td>stopthesteal</td>\n",
       "      <td>auditallvotes</td>\n",
       "      <td>None</td>\n",
       "      <td>None</td>\n",
       "      <td>None</td>\n",
       "      <td>None</td>\n",
       "      <td>None</td>\n",
       "      <td>None</td>\n",
       "      <td>None</td>\n",
       "      <td>None</td>\n",
       "      <td>None</td>\n",
       "      <td>None</td>\n",
       "      <td>None</td>\n",
       "      <td>None</td>\n",
       "      <td>None</td>\n",
       "      <td>None</td>\n",
       "      <td>None</td>\n",
       "      <td>None</td>\n",
       "      <td>None</td>\n",
       "      <td>None</td>\n",
       "      <td>None</td>\n",
       "      <td>None</td>\n",
       "      <td>None</td>\n",
       "      <td>None</td>\n",
       "      <td>None</td>\n",
       "      <td>None</td>\n",
       "      <td>None</td>\n",
       "      <td>None</td>\n",
       "    </tr>\n",
       "    <tr>\n",
       "      <th>1</th>\n",
       "      <td>wynk</td>\n",
       "      <td>periscope</td>\n",
       "      <td>proamericareport</td>\n",
       "      <td>joebiden</td>\n",
       "      <td>stopthesteal</td>\n",
       "      <td>None</td>\n",
       "      <td>None</td>\n",
       "      <td>None</td>\n",
       "      <td>None</td>\n",
       "      <td>None</td>\n",
       "      <td>None</td>\n",
       "      <td>None</td>\n",
       "      <td>None</td>\n",
       "      <td>None</td>\n",
       "      <td>None</td>\n",
       "      <td>None</td>\n",
       "      <td>None</td>\n",
       "      <td>None</td>\n",
       "      <td>None</td>\n",
       "      <td>None</td>\n",
       "      <td>None</td>\n",
       "      <td>None</td>\n",
       "      <td>None</td>\n",
       "      <td>None</td>\n",
       "      <td>None</td>\n",
       "      <td>None</td>\n",
       "      <td>None</td>\n",
       "      <td>None</td>\n",
       "      <td>None</td>\n",
       "    </tr>\n",
       "    <tr>\n",
       "      <th>2</th>\n",
       "      <td>stopthesteal</td>\n",
       "      <td>wethepeople</td>\n",
       "      <td>maga</td>\n",
       "      <td>None</td>\n",
       "      <td>None</td>\n",
       "      <td>None</td>\n",
       "      <td>None</td>\n",
       "      <td>None</td>\n",
       "      <td>None</td>\n",
       "      <td>None</td>\n",
       "      <td>None</td>\n",
       "      <td>None</td>\n",
       "      <td>None</td>\n",
       "      <td>None</td>\n",
       "      <td>None</td>\n",
       "      <td>None</td>\n",
       "      <td>None</td>\n",
       "      <td>None</td>\n",
       "      <td>None</td>\n",
       "      <td>None</td>\n",
       "      <td>None</td>\n",
       "      <td>None</td>\n",
       "      <td>None</td>\n",
       "      <td>None</td>\n",
       "      <td>None</td>\n",
       "      <td>None</td>\n",
       "      <td>None</td>\n",
       "      <td>None</td>\n",
       "      <td>None</td>\n",
       "    </tr>\n",
       "    <tr>\n",
       "      <th>3</th>\n",
       "      <td>stopthesteai2021</td>\n",
       "      <td>stopthesteai2020</td>\n",
       "      <td>stopthesteal</td>\n",
       "      <td>maga</td>\n",
       "      <td>None</td>\n",
       "      <td>None</td>\n",
       "      <td>None</td>\n",
       "      <td>None</td>\n",
       "      <td>None</td>\n",
       "      <td>None</td>\n",
       "      <td>None</td>\n",
       "      <td>None</td>\n",
       "      <td>None</td>\n",
       "      <td>None</td>\n",
       "      <td>None</td>\n",
       "      <td>None</td>\n",
       "      <td>None</td>\n",
       "      <td>None</td>\n",
       "      <td>None</td>\n",
       "      <td>None</td>\n",
       "      <td>None</td>\n",
       "      <td>None</td>\n",
       "      <td>None</td>\n",
       "      <td>None</td>\n",
       "      <td>None</td>\n",
       "      <td>None</td>\n",
       "      <td>None</td>\n",
       "      <td>None</td>\n",
       "      <td>None</td>\n",
       "    </tr>\n",
       "    <tr>\n",
       "      <th>4</th>\n",
       "      <td>prayfortrump</td>\n",
       "      <td>prayforamerica</td>\n",
       "      <td>saveamerica</td>\n",
       "      <td>lockyhemup</td>\n",
       "      <td>holdaccountable</td>\n",
       "      <td>stopthesteal</td>\n",
       "      <td>corruptdemocrats</td>\n",
       "      <td>antifa</td>\n",
       "      <td>domesticterrorists</td>\n",
       "      <td>None</td>\n",
       "      <td>None</td>\n",
       "      <td>None</td>\n",
       "      <td>None</td>\n",
       "      <td>None</td>\n",
       "      <td>None</td>\n",
       "      <td>None</td>\n",
       "      <td>None</td>\n",
       "      <td>None</td>\n",
       "      <td>None</td>\n",
       "      <td>None</td>\n",
       "      <td>None</td>\n",
       "      <td>None</td>\n",
       "      <td>None</td>\n",
       "      <td>None</td>\n",
       "      <td>None</td>\n",
       "      <td>None</td>\n",
       "      <td>None</td>\n",
       "      <td>None</td>\n",
       "      <td>None</td>\n",
       "    </tr>\n",
       "  </tbody>\n",
       "</table>\n",
       "</div>"
      ],
      "text/plain": [
       "                 0                 1                 2           3   \\\n",
       "0      americafirst      stopthesteal     auditallvotes        None   \n",
       "1              wynk         periscope  proamericareport    joebiden   \n",
       "2      stopthesteal       wethepeople              maga        None   \n",
       "3  stopthesteai2021  stopthesteai2020      stopthesteal        maga   \n",
       "4      prayfortrump    prayforamerica       saveamerica  lockyhemup   \n",
       "\n",
       "                4             5                 6       7   \\\n",
       "0             None          None              None    None   \n",
       "1     stopthesteal          None              None    None   \n",
       "2             None          None              None    None   \n",
       "3             None          None              None    None   \n",
       "4  holdaccountable  stopthesteal  corruptdemocrats  antifa   \n",
       "\n",
       "                   8     9     10    11    12    13    14    15    16    17  \\\n",
       "0                None  None  None  None  None  None  None  None  None  None   \n",
       "1                None  None  None  None  None  None  None  None  None  None   \n",
       "2                None  None  None  None  None  None  None  None  None  None   \n",
       "3                None  None  None  None  None  None  None  None  None  None   \n",
       "4  domesticterrorists  None  None  None  None  None  None  None  None  None   \n",
       "\n",
       "     18    19    20    21    22    23    24    25    26    27    28  \n",
       "0  None  None  None  None  None  None  None  None  None  None  None  \n",
       "1  None  None  None  None  None  None  None  None  None  None  None  \n",
       "2  None  None  None  None  None  None  None  None  None  None  None  \n",
       "3  None  None  None  None  None  None  None  None  None  None  None  \n",
       "4  None  None  None  None  None  None  None  None  None  None  None  "
      ]
     },
     "execution_count": 41,
     "metadata": {},
     "output_type": "execute_result"
    }
   ],
   "source": [
    "hashtag_df.head()"
   ]
  },
  {
   "cell_type": "code",
   "execution_count": 42,
   "id": "convenient-flower",
   "metadata": {},
   "outputs": [],
   "source": [
    "hashtag_df.to_csv('small_hashtag_gephi.csv', index=False)"
   ]
  },
  {
   "cell_type": "code",
   "execution_count": 43,
   "id": "second-england",
   "metadata": {},
   "outputs": [
    {
     "data": {
      "text/plain": [
       "(9555, 29)"
      ]
     },
     "execution_count": 43,
     "metadata": {},
     "output_type": "execute_result"
    }
   ],
   "source": [
    "hashtag_df.shape"
   ]
  },
  {
   "cell_type": "code",
   "execution_count": 44,
   "id": "quantitative-joyce",
   "metadata": {},
   "outputs": [],
   "source": [
    "hashtag_df = np.asmatrix(hashtag_df)"
   ]
  },
  {
   "cell_type": "code",
   "execution_count": 45,
   "id": "usual-therapist",
   "metadata": {},
   "outputs": [
    {
     "data": {
      "text/plain": [
       "matrix([['americafirst', 'stopthesteal', 'auditallvotes', ..., None,\n",
       "         None, None],\n",
       "        ['wynk', 'periscope', 'proamericareport', ..., None, None, None],\n",
       "        ['stopthesteal', 'wethepeople', 'maga', ..., None, None, None],\n",
       "        ...,\n",
       "        ['𝖳𝗋𝗎𝗍𝗁𝖬𝖺𝗏𝖾𝗋𝗂𝖼𝗄', 'stopthesteal', None, ..., None, None, None],\n",
       "        ['stopthesteal', 'marchfortrump', None, ..., None, None, None],\n",
       "        ['trump2020tosaveamerica', 'stopthesteal', None, ..., None, None,\n",
       "         None]], dtype=object)"
      ]
     },
     "execution_count": 45,
     "metadata": {},
     "output_type": "execute_result"
    }
   ],
   "source": [
    "hashtag_df"
   ]
  },
  {
   "cell_type": "code",
   "execution_count": 46,
   "id": "preceding-monroe",
   "metadata": {},
   "outputs": [],
   "source": [
    "### hashtag count\n",
    "\n",
    "hash_tag_count = {}\n",
    "for lst in master_list:\n",
    "    for i in lst:\n",
    "        if i not in hash_tag_count:\n",
    "            hash_tag_count[i] = 1\n",
    "        else:\n",
    "            hash_tag_count[i] += 1\n"
   ]
  },
  {
   "cell_type": "code",
   "execution_count": 49,
   "id": "intellectual-proportion",
   "metadata": {},
   "outputs": [],
   "source": [
    "# {k: v for k, v in sorted(hash_tag_count.items(), key=lambda item: item[1])}"
   ]
  },
  {
   "cell_type": "code",
   "execution_count": 50,
   "id": "consolidated-joshua",
   "metadata": {},
   "outputs": [],
   "source": [
    "# for k, v in sorted(hash_tag_count.items()):\n",
    "#     print(k, v)"
   ]
  },
  {
   "cell_type": "code",
   "execution_count": 53,
   "id": "afraid-debate",
   "metadata": {},
   "outputs": [],
   "source": [
    "df_tester = df[0:10]\n",
    "columnSeriesObj = df_tester['hashtags']\n",
    "tester_tags = columnSeriesObj"
   ]
  },
  {
   "cell_type": "code",
   "execution_count": 55,
   "id": "departmental-january",
   "metadata": {},
   "outputs": [
    {
     "data": {
      "text/plain": [
       "0                                     ['stopthesteal']\n",
       "1                                     ['stopthesteal']\n",
       "2    ['americafirst', 'stopthesteal', 'auditallvotes']\n",
       "3    ['wynk', 'periscope', 'proamericareport', 'joe...\n",
       "4                                     ['stopthesteal']\n",
       "5              ['stopthesteal', 'wethepeople', 'maga']\n",
       "6                                     ['stopthesteal']\n",
       "7    ['stopthesteai2021', 'stopthesteai2020', 'stop...\n",
       "8    ['prayfortrump', 'prayforamerica', 'saveameric...\n",
       "9                    ['stopthesteal', 'startthetrial']\n",
       "Name: hashtags, dtype: object"
      ]
     },
     "execution_count": 55,
     "metadata": {},
     "output_type": "execute_result"
    }
   ],
   "source": [
    "df_tester['hashtags']"
   ]
  },
  {
   "cell_type": "code",
   "execution_count": 54,
   "id": "british-pursuit",
   "metadata": {},
   "outputs": [
    {
     "name": "stdout",
     "output_type": "stream",
     "text": [
      "['stopthesteal']\n",
      "['stopthesteal']\n",
      "['americafirst', 'stopthesteal', 'auditallvotes']\n",
      "['wynk', 'periscope', 'proamericareport', 'joebiden', 'stopthesteal']\n",
      "['stopthesteal']\n",
      "['stopthesteal', 'wethepeople', 'maga']\n",
      "['stopthesteal']\n",
      "['stopthesteai2021', 'stopthesteai2020', 'stopthesteal', 'maga']\n",
      "['prayfortrump', 'prayforamerica', 'saveamerica', 'lockyhemup', 'holdaccountable', 'stopthesteal', 'corruptdemocrats', 'antifa', 'domesticterrorists']\n",
      "['stopthesteal', 'startthetrial']\n"
     ]
    }
   ],
   "source": [
    "test_master_list = []\n",
    "for i in tester_tags:\n",
    "    i = i.replace(\"[\", \"\")\n",
    "    i = i.replace(\"]\", \"\")\n",
    "    i = i.replace(\"'\", \"\")\n",
    "    i = i.replace(\",\", \"\")\n",
    "    i = i.split(' ')\n",
    "    print(i)\n",
    "#     if len(i) < 2:\n",
    "#          continue\n",
    "#     else:\n",
    "#         i_test_list = []\n",
    "#         for j in i:\n",
    "#             i_test_list.append(j)\n",
    "#         test_master_list.append(i_test_list)"
   ]
  },
  {
   "cell_type": "code",
   "execution_count": null,
   "id": "alive-hierarchy",
   "metadata": {},
   "outputs": [],
   "source": []
  }
 ],
 "metadata": {
  "kernelspec": {
   "display_name": "Python 3",
   "language": "python",
   "name": "python3"
  },
  "language_info": {
   "codemirror_mode": {
    "name": "ipython",
    "version": 3
   },
   "file_extension": ".py",
   "mimetype": "text/x-python",
   "name": "python",
   "nbconvert_exporter": "python",
   "pygments_lexer": "ipython3",
   "version": "3.7.10"
  }
 },
 "nbformat": 4,
 "nbformat_minor": 5
}
