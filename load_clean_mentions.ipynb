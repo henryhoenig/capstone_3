{
 "cells": [
  {
   "cell_type": "code",
   "execution_count": 1,
   "id": "introductory-accused",
   "metadata": {},
   "outputs": [],
   "source": [
    "import pandas as pd\n",
    "import re\n",
    "import string\n",
    "import unicodedata\n",
    "from cleaners import load_tweets, make_mentions_list"
   ]
  },
  {
   "cell_type": "code",
   "execution_count": 2,
   "id": "automatic-publisher",
   "metadata": {},
   "outputs": [],
   "source": [
    "df = load_tweets('data/stop_steal.csv')"
   ]
  },
  {
   "cell_type": "code",
   "execution_count": 3,
   "id": "ignored-picking",
   "metadata": {},
   "outputs": [],
   "source": [
    "mentions_list = make_mentions_list(df.mentions)"
   ]
  },
  {
   "cell_type": "code",
   "execution_count": 4,
   "id": "bridal-newman",
   "metadata": {
    "tags": []
   },
   "outputs": [],
   "source": [
    "mentions_df = pd.DataFrame(mentions_list)"
   ]
  },
  {
   "cell_type": "code",
   "execution_count": 5,
   "id": "twelve-brooklyn",
   "metadata": {},
   "outputs": [],
   "source": [
    "mentions_df.to_csv('data/mentions.csv', index=False)"
   ]
  },
  {
   "cell_type": "code",
   "execution_count": null,
   "id": "designing-belfast",
   "metadata": {},
   "outputs": [],
   "source": []
  }
 ],
 "metadata": {
  "kernelspec": {
   "display_name": "Python 3",
   "language": "python",
   "name": "python3"
  },
  "language_info": {
   "codemirror_mode": {
    "name": "ipython",
    "version": 3
   },
   "file_extension": ".py",
   "mimetype": "text/x-python",
   "name": "python",
   "nbconvert_exporter": "python",
   "pygments_lexer": "ipython3",
   "version": "3.7.7"
  }
 },
 "nbformat": 4,
 "nbformat_minor": 5
}
