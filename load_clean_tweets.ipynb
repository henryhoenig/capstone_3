{
 "cells": [
  {
   "cell_type": "code",
   "execution_count": 1,
   "id": "outside-agenda",
   "metadata": {},
   "outputs": [],
   "source": [
    "import pandas as pd\n",
    "import numpy as np"
   ]
  },
  {
   "cell_type": "code",
   "execution_count": 2,
   "id": "crucial-apparel",
   "metadata": {},
   "outputs": [],
   "source": [
    "df = pd.read_csv('data/stop_steal_notDC.csv')"
   ]
  },
  {
   "cell_type": "code",
   "execution_count": 3,
   "id": "increasing-exploration",
   "metadata": {},
   "outputs": [],
   "source": [
    "pd.set_option('display.max_columns', None)"
   ]
  },
  {
   "cell_type": "code",
   "execution_count": 4,
   "id": "mighty-black",
   "metadata": {},
   "outputs": [],
   "source": [
    "df.drop(columns=['time', 'photos', 'video', 'timezone', 'place', 'language', 'cashtags', 'thumbnail', 'near', 'geo', 'source', 'user_rt_id', 'user_rt', 'retweet_id', 'retweet_date', 'translate', 'trans_src', 'trans_dest'], inplace=True)"
   ]
  },
  {
   "cell_type": "code",
   "execution_count": 5,
   "id": "fresh-morgan",
   "metadata": {},
   "outputs": [],
   "source": [
    "pd.set_option('display.max_rows', 50)"
   ]
  },
  {
   "cell_type": "code",
   "execution_count": 6,
   "id": "closing-contributor",
   "metadata": {},
   "outputs": [],
   "source": [
    "# df_short = df[0:10]"
   ]
  },
  {
   "cell_type": "code",
   "execution_count": 12,
   "id": "equal-disney",
   "metadata": {},
   "outputs": [],
   "source": [
    "columnSeriesObj = df['tweet']\n",
    "tweets = columnSeriesObj"
   ]
  },
  {
   "cell_type": "code",
   "execution_count": 16,
   "id": "neutral-console",
   "metadata": {},
   "outputs": [],
   "source": [
    "# each tweet is one string\n",
    "\n",
    "master_list = []\n",
    "for i in tweets:\n",
    "    master_list.append(i)"
   ]
  },
  {
   "cell_type": "code",
   "execution_count": 14,
   "id": "lasting-arlington",
   "metadata": {},
   "outputs": [],
   "source": [
    "tweets_df = pd.DataFrame(master_list)"
   ]
  },
  {
   "cell_type": "code",
   "execution_count": 15,
   "id": "spread-holiday",
   "metadata": {},
   "outputs": [],
   "source": [
    "tweets_df.to_csv('data/tweet_text.csv', index=False)"
   ]
  },
  {
   "cell_type": "code",
   "execution_count": null,
   "id": "damaged-marks",
   "metadata": {},
   "outputs": [],
   "source": []
  }
 ],
 "metadata": {
  "kernelspec": {
   "display_name": "Environment (conda_pytorch_latest_p37)",
   "language": "python",
   "name": "conda_pytorch_latest_p37"
  },
  "language_info": {
   "codemirror_mode": {
    "name": "ipython",
    "version": 3
   },
   "file_extension": ".py",
   "mimetype": "text/x-python",
   "name": "python",
   "nbconvert_exporter": "python",
   "pygments_lexer": "ipython3",
   "version": "3.7.10"
  }
 },
 "nbformat": 4,
 "nbformat_minor": 5
}
