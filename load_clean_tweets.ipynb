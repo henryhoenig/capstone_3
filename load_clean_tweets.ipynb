{
 "cells": [
  {
   "cell_type": "code",
   "execution_count": 32,
   "id": "handmade-houston",
   "metadata": {},
   "outputs": [],
   "source": [
    "import pandas as pd\n",
    "import numpy as np\n",
    "import re\n",
    "import string\n",
    "import unicodedata"
   ]
  },
  {
   "cell_type": "code",
   "execution_count": 33,
   "id": "historical-planner",
   "metadata": {},
   "outputs": [],
   "source": [
    "df = pd.read_csv('data/stop_steal_notDC.csv')"
   ]
  },
  {
   "cell_type": "code",
   "execution_count": 34,
   "id": "unavailable-rough",
   "metadata": {},
   "outputs": [],
   "source": [
    "pd.set_option('display.max_columns', None)"
   ]
  },
  {
   "cell_type": "code",
   "execution_count": 35,
   "id": "capital-hepatitis",
   "metadata": {},
   "outputs": [],
   "source": [
    "df.drop(columns=['time', 'photos', 'video', 'timezone', 'place', 'language', 'cashtags', 'thumbnail', 'near', 'geo', 'source', 'user_rt_id', 'user_rt', 'retweet_id', 'retweet_date', 'translate', 'trans_src', 'trans_dest'], inplace=True)"
   ]
  },
  {
   "cell_type": "code",
   "execution_count": 36,
   "id": "satisfactory-lesson",
   "metadata": {},
   "outputs": [],
   "source": [
    "pd.set_option('display.max_rows', 50)"
   ]
  },
  {
   "cell_type": "code",
   "execution_count": 37,
   "id": "honey-customs",
   "metadata": {},
   "outputs": [],
   "source": [
    "#df_short = df[0:10]"
   ]
  },
  {
   "cell_type": "code",
   "execution_count": 66,
   "id": "affecting-forge",
   "metadata": {},
   "outputs": [],
   "source": [
    "columnSeriesObj = df['tweet']\n",
    "tweets = columnSeriesObj"
   ]
  },
  {
   "cell_type": "code",
   "execution_count": 67,
   "id": "subtle-prevention",
   "metadata": {},
   "outputs": [],
   "source": [
    "# each tweet is one string\n",
    "\n",
    "master_list = []\n",
    "for i in tweets:\n",
    "    words = i.split()\n",
    "    table = str.maketrans('', '', string.punctuation)\n",
    "    i = [w.translate(table) for w in words]\n",
    "    i = \" \".join(i)\n",
    "    i = i.lower()\n",
    "    i = re.sub(r'[^a-zA-Z0-9_\\s]+', '', i)\n",
    "    master_list.append(i)"
   ]
  },
  {
   "cell_type": "code",
   "execution_count": null,
   "id": "buried-medication",
   "metadata": {},
   "outputs": [],
   "source": []
  },
  {
   "cell_type": "code",
   "execution_count": 68,
   "id": "narrow-luther",
   "metadata": {},
   "outputs": [],
   "source": [
    "tweets_df = pd.DataFrame(master_list, columns=['text'])"
   ]
  },
  {
   "cell_type": "code",
   "execution_count": 69,
   "id": "double-commander",
   "metadata": {},
   "outputs": [
    {
     "data": {
      "text/html": [
       "<div>\n",
       "<style scoped>\n",
       "    .dataframe tbody tr th:only-of-type {\n",
       "        vertical-align: middle;\n",
       "    }\n",
       "\n",
       "    .dataframe tbody tr th {\n",
       "        vertical-align: top;\n",
       "    }\n",
       "\n",
       "    .dataframe thead th {\n",
       "        text-align: right;\n",
       "    }\n",
       "</style>\n",
       "<table border=\"1\" class=\"dataframe\">\n",
       "  <thead>\n",
       "    <tr style=\"text-align: right;\">\n",
       "      <th></th>\n",
       "      <th>text</th>\n",
       "    </tr>\n",
       "  </thead>\n",
       "  <tbody>\n",
       "    <tr>\n",
       "      <th>0</th>\n",
       "      <td>jeremynewberger marklevinshow petehegseth we d...</td>\n",
       "    </tr>\n",
       "    <tr>\n",
       "      <th>1</th>\n",
       "      <td>hawleymo simonschuster a lot of courts are goi...</td>\n",
       "    </tr>\n",
       "    <tr>\n",
       "      <th>2</th>\n",
       "      <td>frznsoonrmn missilmom wow  i wish this video w...</td>\n",
       "    </tr>\n",
       "  </tbody>\n",
       "</table>\n",
       "</div>"
      ],
      "text/plain": [
       "                                                text\n",
       "0  jeremynewberger marklevinshow petehegseth we d...\n",
       "1  hawleymo simonschuster a lot of courts are goi...\n",
       "2  frznsoonrmn missilmom wow  i wish this video w..."
      ]
     },
     "execution_count": 69,
     "metadata": {},
     "output_type": "execute_result"
    }
   ],
   "source": [
    "tweets_df.head(3)"
   ]
  },
  {
   "cell_type": "code",
   "execution_count": 70,
   "id": "anticipated-charter",
   "metadata": {},
   "outputs": [],
   "source": [
    "tweets_df.to_csv('data/tweet_text.csv', index=False)"
   ]
  },
  {
   "cell_type": "code",
   "execution_count": null,
   "id": "painted-acoustic",
   "metadata": {},
   "outputs": [],
   "source": []
  },
  {
   "cell_type": "code",
   "execution_count": null,
   "id": "grateful-evaluation",
   "metadata": {},
   "outputs": [],
   "source": [
    "### Puts all tweets in one-line 'article'"
   ]
  },
  {
   "cell_type": "code",
   "execution_count": 80,
   "id": "portable-essex",
   "metadata": {},
   "outputs": [],
   "source": [
    "single_string_list = []\n",
    "master_string = \" \".join(master_list)\n",
    "single_string_list.append(master_string)"
   ]
  },
  {
   "cell_type": "code",
   "execution_count": 81,
   "id": "exciting-frank",
   "metadata": {},
   "outputs": [],
   "source": [
    "one_tweet_df = pd.DataFrame(single_string_list, columns=['text'])"
   ]
  },
  {
   "cell_type": "code",
   "execution_count": 83,
   "id": "important-accused",
   "metadata": {},
   "outputs": [],
   "source": [
    "one_tweet_df.to_csv('data/one_tweet_text.csv', index=False)"
   ]
  },
  {
   "cell_type": "code",
   "execution_count": null,
   "id": "third-million",
   "metadata": {},
   "outputs": [],
   "source": []
  }
 ],
 "metadata": {
  "kernelspec": {
   "display_name": "Environment (conda_pytorch_latest_p37)",
   "language": "python",
   "name": "conda_pytorch_latest_p37"
  },
  "language_info": {
   "codemirror_mode": {
    "name": "ipython",
    "version": 3
   },
   "file_extension": ".py",
   "mimetype": "text/x-python",
   "name": "python",
   "nbconvert_exporter": "python",
   "pygments_lexer": "ipython3",
   "version": "3.7.10"
  }
 },
 "nbformat": 4,
 "nbformat_minor": 5
}
