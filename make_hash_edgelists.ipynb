{
 "cells": [
  {
   "cell_type": "code",
   "execution_count": 233,
   "id": "latin-seafood",
   "metadata": {},
   "outputs": [],
   "source": [
    "import pandas as pd\n",
    "import networkx as nx\n",
    "import matplotlib.pyplot as plt\n",
    "import itertools\n",
    "from itertools import combinations\n",
    "from sklearn import preprocessing"
   ]
  },
  {
   "cell_type": "code",
   "execution_count": 234,
   "id": "delayed-stroke",
   "metadata": {},
   "outputs": [],
   "source": [
    "df = pd.read_csv('small_hashtag_gephi.csv')"
   ]
  },
  {
   "cell_type": "markdown",
   "id": "unnecessary-basics",
   "metadata": {},
   "source": [
    "* Go through df row by row\n",
    "* For each row, make a pair of tuples (edges) for each item in the row (permutations)\n",
    "* Put first row of edges into new dataframe (df_edges)\n",
    "* From then on, concatenate each new row of tuples onto df_edges\n",
    "* Once done, groupby to count\n",
    "* Put those you want to keep into new dataframe"
   ]
  },
  {
   "cell_type": "code",
   "execution_count": 235,
   "id": "greater-victoria",
   "metadata": {},
   "outputs": [],
   "source": [
    "edges_df = pd.DataFrame([None, None])\n",
    "for index, row in df.iterrows():\n",
    "    hold = [x for x in row.values if x == x]\n",
    "    edges = (list(combinations(hold, 2)))\n",
    "    edges_series=pd.Series(edges)\n",
    "    new_edges_df = pd.DataFrame(edges_series)\n",
    "    edges_df = edges_df.append(new_edges_df, ignore_index=True)"
   ]
  },
  {
   "cell_type": "code",
   "execution_count": 236,
   "id": "expired-browser",
   "metadata": {},
   "outputs": [],
   "source": [
    "edges_df.rename(columns={0 : 'edges'}, inplace=True)"
   ]
  },
  {
   "cell_type": "code",
   "execution_count": 237,
   "id": "alleged-anniversary",
   "metadata": {},
   "outputs": [],
   "source": [
    "top_edges = edges_df['edges'].value_counts() [edges_df['edges'].value_counts() > 100].reset_index()"
   ]
  },
  {
   "cell_type": "code",
   "execution_count": null,
   "id": "productive-lesbian",
   "metadata": {},
   "outputs": [],
   "source": [
    "#(edges_df['edges'].value_counts() > 100) && (edges_df['edges'].value_counts() < 2000) # this goes in brackets above"
   ]
  },
  {
   "cell_type": "code",
   "execution_count": null,
   "id": "sacred-minneapolis",
   "metadata": {},
   "outputs": [],
   "source": []
  },
  {
   "cell_type": "code",
   "execution_count": 227,
   "id": "naval-niger",
   "metadata": {},
   "outputs": [],
   "source": [
    "top_edges.rename(columns={'index' : 'edges', 'edges' : 'weight'}, inplace=True)"
   ]
  },
  {
   "cell_type": "code",
   "execution_count": 228,
   "id": "legal-marriage",
   "metadata": {},
   "outputs": [
    {
     "data": {
      "text/html": [
       "<div>\n",
       "<style scoped>\n",
       "    .dataframe tbody tr th:only-of-type {\n",
       "        vertical-align: middle;\n",
       "    }\n",
       "\n",
       "    .dataframe tbody tr th {\n",
       "        vertical-align: top;\n",
       "    }\n",
       "\n",
       "    .dataframe thead th {\n",
       "        text-align: right;\n",
       "    }\n",
       "</style>\n",
       "<table border=\"1\" class=\"dataframe\">\n",
       "  <thead>\n",
       "    <tr style=\"text-align: right;\">\n",
       "      <th></th>\n",
       "      <th>edges</th>\n",
       "      <th>weight</th>\n",
       "    </tr>\n",
       "  </thead>\n",
       "  <tbody>\n",
       "    <tr>\n",
       "      <th>0</th>\n",
       "      <td>(maga, stopthesteal)</td>\n",
       "      <td>969</td>\n",
       "    </tr>\n",
       "    <tr>\n",
       "      <th>1</th>\n",
       "      <td>(stopthesteal, maga)</td>\n",
       "      <td>660</td>\n",
       "    </tr>\n",
       "    <tr>\n",
       "      <th>2</th>\n",
       "      <td>(trump, stopthesteal)</td>\n",
       "      <td>543</td>\n",
       "    </tr>\n",
       "    <tr>\n",
       "      <th>3</th>\n",
       "      <td>(marchfortrump, stopthesteal)</td>\n",
       "      <td>496</td>\n",
       "    </tr>\n",
       "    <tr>\n",
       "      <th>4</th>\n",
       "      <td>(stopthesteal, fightfortrump)</td>\n",
       "      <td>481</td>\n",
       "    </tr>\n",
       "    <tr>\n",
       "      <th>...</th>\n",
       "      <td>...</td>\n",
       "      <td>...</td>\n",
       "    </tr>\n",
       "    <tr>\n",
       "      <th>58</th>\n",
       "      <td>(stopthesteal, kraken)</td>\n",
       "      <td>102</td>\n",
       "    </tr>\n",
       "    <tr>\n",
       "      <th>59</th>\n",
       "      <td>(electionintegritymatters, electionfraud2020)</td>\n",
       "      <td>102</td>\n",
       "    </tr>\n",
       "    <tr>\n",
       "      <th>60</th>\n",
       "      <td>(electionintegritymatters, trumpwon)</td>\n",
       "      <td>102</td>\n",
       "    </tr>\n",
       "    <tr>\n",
       "      <th>61</th>\n",
       "      <td>(electionfraud2020, trumpwon)</td>\n",
       "      <td>102</td>\n",
       "    </tr>\n",
       "    <tr>\n",
       "      <th>62</th>\n",
       "      <td>(stopthesteal, america)</td>\n",
       "      <td>101</td>\n",
       "    </tr>\n",
       "  </tbody>\n",
       "</table>\n",
       "<p>63 rows × 2 columns</p>\n",
       "</div>"
      ],
      "text/plain": [
       "                                            edges  weight\n",
       "0                            (maga, stopthesteal)     969\n",
       "1                            (stopthesteal, maga)     660\n",
       "2                           (trump, stopthesteal)     543\n",
       "3                   (marchfortrump, stopthesteal)     496\n",
       "4                   (stopthesteal, fightfortrump)     481\n",
       "..                                            ...     ...\n",
       "58                         (stopthesteal, kraken)     102\n",
       "59  (electionintegritymatters, electionfraud2020)     102\n",
       "60           (electionintegritymatters, trumpwon)     102\n",
       "61                  (electionfraud2020, trumpwon)     102\n",
       "62                        (stopthesteal, america)     101\n",
       "\n",
       "[63 rows x 2 columns]"
      ]
     },
     "execution_count": 228,
     "metadata": {},
     "output_type": "execute_result"
    }
   ],
   "source": [
    "top_edges"
   ]
  },
  {
   "cell_type": "code",
   "execution_count": 229,
   "id": "royal-electron",
   "metadata": {},
   "outputs": [],
   "source": [
    "# normalize weights\n",
    "x = top_edges[['weight']].values.astype(float)\n",
    "min_max_scaler = preprocessing.MinMaxScaler()\n",
    "x_scaled = min_max_scaler.fit_transform(x)\n",
    "normalized = pd.DataFrame(x_scaled, columns=['weights'])\n",
    "norm_weights=normalized['weights']"
   ]
  },
  {
   "cell_type": "code",
   "execution_count": 230,
   "id": "discrete-wrapping",
   "metadata": {},
   "outputs": [],
   "source": [
    "top_edges.insert(1, \"weights\", norm_weights, True)\n",
    "top_edges.drop(columns=['weight'], inplace=True)"
   ]
  },
  {
   "cell_type": "code",
   "execution_count": 231,
   "id": "retired-stations",
   "metadata": {},
   "outputs": [
    {
     "data": {
      "text/html": [
       "<div>\n",
       "<style scoped>\n",
       "    .dataframe tbody tr th:only-of-type {\n",
       "        vertical-align: middle;\n",
       "    }\n",
       "\n",
       "    .dataframe tbody tr th {\n",
       "        vertical-align: top;\n",
       "    }\n",
       "\n",
       "    .dataframe thead th {\n",
       "        text-align: right;\n",
       "    }\n",
       "</style>\n",
       "<table border=\"1\" class=\"dataframe\">\n",
       "  <thead>\n",
       "    <tr style=\"text-align: right;\">\n",
       "      <th></th>\n",
       "      <th>edges</th>\n",
       "      <th>weights</th>\n",
       "    </tr>\n",
       "  </thead>\n",
       "  <tbody>\n",
       "    <tr>\n",
       "      <th>0</th>\n",
       "      <td>(maga, stopthesteal)</td>\n",
       "      <td>1.000000</td>\n",
       "    </tr>\n",
       "    <tr>\n",
       "      <th>1</th>\n",
       "      <td>(stopthesteal, maga)</td>\n",
       "      <td>0.644009</td>\n",
       "    </tr>\n",
       "    <tr>\n",
       "      <th>2</th>\n",
       "      <td>(trump, stopthesteal)</td>\n",
       "      <td>0.509217</td>\n",
       "    </tr>\n",
       "  </tbody>\n",
       "</table>\n",
       "</div>"
      ],
      "text/plain": [
       "                   edges   weights\n",
       "0   (maga, stopthesteal)  1.000000\n",
       "1   (stopthesteal, maga)  0.644009\n",
       "2  (trump, stopthesteal)  0.509217"
      ]
     },
     "execution_count": 231,
     "metadata": {},
     "output_type": "execute_result"
    }
   ],
   "source": [
    "top_edges.head(3)"
   ]
  },
  {
   "cell_type": "code",
   "execution_count": 232,
   "id": "nasty-plate",
   "metadata": {},
   "outputs": [],
   "source": [
    "top_edges.to_csv('data/weighted_edges100.csv')"
   ]
  },
  {
   "cell_type": "code",
   "execution_count": null,
   "id": "common-humanity",
   "metadata": {},
   "outputs": [],
   "source": []
  }
 ],
 "metadata": {
  "kernelspec": {
   "display_name": "Environment (conda_tensorflow2_latest_p37)",
   "language": "python",
   "name": "conda_tensorflow2_latest_p37"
  },
  "language_info": {
   "codemirror_mode": {
    "name": "ipython",
    "version": 3
   },
   "file_extension": ".py",
   "mimetype": "text/x-python",
   "name": "python",
   "nbconvert_exporter": "python",
   "pygments_lexer": "ipython3",
   "version": "3.7.10"
  }
 },
 "nbformat": 4,
 "nbformat_minor": 5
}
