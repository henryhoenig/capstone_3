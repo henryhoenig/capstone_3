{
 "cells": [
  {
   "cell_type": "code",
   "execution_count": 29,
   "id": "weighted-female",
   "metadata": {},
   "outputs": [],
   "source": [
    "# Takes in csv of original, raw tweets and outputs hashtag edge lists for use in making networks"
   ]
  },
  {
   "cell_type": "code",
   "execution_count": 30,
   "id": "structured-graduation",
   "metadata": {},
   "outputs": [],
   "source": [
    "import pandas as pd\n",
    "import numpy as np\n",
    "import string\n",
    "import re\n",
    "from cleaners import clean_hashtags, hashtags_to_df, load_tweets, get_hashtag_edges\n",
    "from cleaners import consolidate_edges\n",
    "import itertools\n",
    "from itertools import combinations\n",
    "from sklearn import preprocessing"
   ]
  },
  {
   "cell_type": "code",
   "execution_count": 31,
   "id": "insured-think",
   "metadata": {},
   "outputs": [],
   "source": [
    "df = load_tweets('data/stop_steal.csv')"
   ]
  },
  {
   "cell_type": "code",
   "execution_count": 32,
   "id": "tracked-worcester",
   "metadata": {},
   "outputs": [],
   "source": [
    "hashtag_df = hashtags_to_df(df.hashtags)"
   ]
  },
  {
   "cell_type": "code",
   "execution_count": 33,
   "id": "weighted-metabolism",
   "metadata": {
    "scrolled": true
   },
   "outputs": [],
   "source": [
    "hashtag_df = hashtag_df.fillna(value=np.nan)"
   ]
  },
  {
   "cell_type": "code",
   "execution_count": 34,
   "id": "incoming-study",
   "metadata": {},
   "outputs": [],
   "source": [
    "edges_df = get_hashtag_edges(hashtag_df)"
   ]
  },
  {
   "cell_type": "code",
   "execution_count": 35,
   "id": "absolute-revision",
   "metadata": {},
   "outputs": [],
   "source": [
    "# Dropping nan values in first two rows\n",
    "edges_df.drop(edges_df.index[0:2], inplace=True)"
   ]
  },
  {
   "cell_type": "code",
   "execution_count": 36,
   "id": "outdoor-teaching",
   "metadata": {},
   "outputs": [],
   "source": [
    "#(edges_df['edges'].value_counts() > 100) && (edges_df['edges'].value_counts() < 2000) # this goes in brackets above"
   ]
  },
  {
   "cell_type": "code",
   "execution_count": 37,
   "id": "widespread-diversity",
   "metadata": {},
   "outputs": [],
   "source": [
    "# selects all edges with value counts greater than n\n",
    "n = 45\n",
    "top_edges = edges_df['edges'].value_counts() [edges_df['edges'].value_counts() > n].reset_index()\n",
    "top_edges.rename(columns={'index' : 'edges', 'edges' : 'weight'}, inplace=True)"
   ]
  },
  {
   "cell_type": "code",
   "execution_count": 38,
   "id": "touched-translator",
   "metadata": {},
   "outputs": [],
   "source": [
    "# consolidates duplicates (with reverse order), adds up weights, puts into new dataframe\n",
    "new_top_edges = consolidate_edges(top_edges)"
   ]
  },
  {
   "cell_type": "code",
   "execution_count": 39,
   "id": "capital-boost",
   "metadata": {},
   "outputs": [],
   "source": [
    "# normalize weights\n",
    "x = new_top_edges[['weight']].values.astype(float)\n",
    "min_max_scaler = preprocessing.MinMaxScaler()\n",
    "x_scaled = min_max_scaler.fit_transform(x)\n",
    "normalized = pd.DataFrame(x_scaled, columns=['weights'])\n",
    "norm_weights=normalized['weights']\n",
    "\n",
    "new_top_edges.insert(1, \"weights\", norm_weights, True)\n",
    "new_top_edges.drop(columns=['weight'], inplace=True)"
   ]
  },
  {
   "cell_type": "code",
   "execution_count": null,
   "id": "previous-prisoner",
   "metadata": {},
   "outputs": [],
   "source": []
  },
  {
   "cell_type": "code",
   "execution_count": 40,
   "id": "given-diamond",
   "metadata": {},
   "outputs": [],
   "source": [
    "new_top_edges.to_csv('data/hash_edges_45.csv')"
   ]
  },
  {
   "cell_type": "code",
   "execution_count": null,
   "id": "complete-franchise",
   "metadata": {},
   "outputs": [],
   "source": []
  }
 ],
 "metadata": {
  "kernelspec": {
   "display_name": "Python 3",
   "language": "python",
   "name": "python3"
  },
  "language_info": {
   "codemirror_mode": {
    "name": "ipython",
    "version": 3
   },
   "file_extension": ".py",
   "mimetype": "text/x-python",
   "name": "python",
   "nbconvert_exporter": "python",
   "pygments_lexer": "ipython3",
   "version": "3.7.7"
  }
 },
 "nbformat": 4,
 "nbformat_minor": 5
}
