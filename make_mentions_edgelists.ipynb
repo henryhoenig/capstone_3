{
 "cells": [
  {
   "cell_type": "code",
   "execution_count": 24,
   "id": "stupid-rover",
   "metadata": {},
   "outputs": [],
   "source": [
    "import pandas as pd\n",
    "import networkx as nx\n",
    "import matplotlib.pyplot as plt\n",
    "import itertools\n",
    "from itertools import combinations\n",
    "from sklearn import preprocessing\n",
    "from cleaners import consolidate_edges"
   ]
  },
  {
   "cell_type": "code",
   "execution_count": 25,
   "id": "rocky-colorado",
   "metadata": {},
   "outputs": [],
   "source": [
    "df = pd.read_csv('data/mentions.csv')"
   ]
  },
  {
   "cell_type": "code",
   "execution_count": 26,
   "id": "expressed-titanium",
   "metadata": {},
   "outputs": [],
   "source": [
    "edges_df = pd.DataFrame([None, None])\n",
    "for index, row in df.iterrows():\n",
    "    hold = [x for x in row.values if x == x]\n",
    "    edges = (list(combinations(hold, 2)))\n",
    "    edges_series=pd.Series(edges)\n",
    "    new_edges_df = pd.DataFrame(edges_series)\n",
    "    edges_df = edges_df.append(new_edges_df, ignore_index=True)"
   ]
  },
  {
   "cell_type": "code",
   "execution_count": 27,
   "id": "future-serial",
   "metadata": {},
   "outputs": [],
   "source": [
    "edges_df.rename(columns={0 : 'edges'}, inplace=True)"
   ]
  },
  {
   "cell_type": "code",
   "execution_count": 28,
   "id": "fixed-formula",
   "metadata": {},
   "outputs": [],
   "source": [
    "top_edges = edges_df['edges'].value_counts() [edges_df['edges'].value_counts() > 50].reset_index()"
   ]
  },
  {
   "cell_type": "code",
   "execution_count": 29,
   "id": "wireless-value",
   "metadata": {},
   "outputs": [],
   "source": [
    "top_edges.rename(columns={'index' : 'edges', 'edges' : 'weight'}, inplace=True)"
   ]
  },
  {
   "cell_type": "code",
   "execution_count": 30,
   "id": "matched-attendance",
   "metadata": {},
   "outputs": [],
   "source": [
    "# consolidates duplicates (with reverse order), adds up weights, puts into new dataframe\n",
    "top_edges = consolidate_edges(top_edges)"
   ]
  },
  {
   "cell_type": "code",
   "execution_count": 31,
   "id": "sitting-honor",
   "metadata": {},
   "outputs": [],
   "source": [
    "# normalize weights\n",
    "x = top_edges[['weight']].values.astype(float)\n",
    "min_max_scaler = preprocessing.MinMaxScaler()\n",
    "x_scaled = min_max_scaler.fit_transform(x)\n",
    "normalized = pd.DataFrame(x_scaled, columns=['weights'])\n",
    "norm_weights=normalized['weights']"
   ]
  },
  {
   "cell_type": "code",
   "execution_count": 32,
   "id": "noticed-cheese",
   "metadata": {},
   "outputs": [],
   "source": [
    "top_edges.insert(1, \"weights\", norm_weights, True)\n",
    "top_edges.drop(columns=['weight'], inplace=True)"
   ]
  },
  {
   "cell_type": "code",
   "execution_count": null,
   "id": "attempted-inventory",
   "metadata": {},
   "outputs": [],
   "source": []
  },
  {
   "cell_type": "code",
   "execution_count": 33,
   "id": "fresh-eagle",
   "metadata": {},
   "outputs": [],
   "source": [
    "top_edges.to_csv('data/mentions_edges50.csv')"
   ]
  },
  {
   "cell_type": "code",
   "execution_count": null,
   "id": "weird-mercury",
   "metadata": {},
   "outputs": [],
   "source": []
  }
 ],
 "metadata": {
  "kernelspec": {
   "display_name": "Python 3",
   "language": "python",
   "name": "python3"
  },
  "language_info": {
   "codemirror_mode": {
    "name": "ipython",
    "version": 3
   },
   "file_extension": ".py",
   "mimetype": "text/x-python",
   "name": "python",
   "nbconvert_exporter": "python",
   "pygments_lexer": "ipython3",
   "version": "3.7.7"
  }
 },
 "nbformat": 4,
 "nbformat_minor": 5
}
