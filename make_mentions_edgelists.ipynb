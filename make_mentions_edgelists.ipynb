{
 "cells": [
  {
   "cell_type": "code",
   "execution_count": 1,
   "id": "stupid-rover",
   "metadata": {},
   "outputs": [],
   "source": [
    "import pandas as pd\n",
    "import networkx as nx\n",
    "import matplotlib.pyplot as plt\n",
    "import itertools\n",
    "from itertools import combinations\n",
    "from sklearn import preprocessing"
   ]
  },
  {
   "cell_type": "code",
   "execution_count": 3,
   "id": "rocky-colorado",
   "metadata": {},
   "outputs": [],
   "source": [
    "df = pd.read_csv('data/small_mentions.csv')"
   ]
  },
  {
   "cell_type": "markdown",
   "id": "destroyed-packing",
   "metadata": {},
   "source": [
    "* Go through df row by row\n",
    "* For each row, make a pair of tuples (edges) for each item in the row (permutations)\n",
    "* Put first row of edges into new dataframe (df_edges)\n",
    "* From then on, concatenate each new row of tuples onto df_edges\n",
    "* Once done, groupby to count\n",
    "* Put those you want to keep into new dataframe"
   ]
  },
  {
   "cell_type": "code",
   "execution_count": 4,
   "id": "expressed-titanium",
   "metadata": {},
   "outputs": [],
   "source": [
    "edges_df = pd.DataFrame([None, None])\n",
    "for index, row in df.iterrows():\n",
    "    hold = [x for x in row.values if x == x]\n",
    "    edges = (list(combinations(hold, 2)))\n",
    "    edges_series=pd.Series(edges)\n",
    "    new_edges_df = pd.DataFrame(edges_series)\n",
    "    edges_df = edges_df.append(new_edges_df, ignore_index=True)"
   ]
  },
  {
   "cell_type": "code",
   "execution_count": 5,
   "id": "specified-thinking",
   "metadata": {},
   "outputs": [
    {
     "data": {
      "text/html": [
       "<div>\n",
       "<style scoped>\n",
       "    .dataframe tbody tr th:only-of-type {\n",
       "        vertical-align: middle;\n",
       "    }\n",
       "\n",
       "    .dataframe tbody tr th {\n",
       "        vertical-align: top;\n",
       "    }\n",
       "\n",
       "    .dataframe thead th {\n",
       "        text-align: right;\n",
       "    }\n",
       "</style>\n",
       "<table border=\"1\" class=\"dataframe\">\n",
       "  <thead>\n",
       "    <tr style=\"text-align: right;\">\n",
       "      <th></th>\n",
       "      <th>0</th>\n",
       "    </tr>\n",
       "  </thead>\n",
       "  <tbody>\n",
       "    <tr>\n",
       "      <th>0</th>\n",
       "      <td>None</td>\n",
       "    </tr>\n",
       "    <tr>\n",
       "      <th>1</th>\n",
       "      <td>None</td>\n",
       "    </tr>\n",
       "    <tr>\n",
       "      <th>2</th>\n",
       "      <td>(freedom2020, rhonda swift)</td>\n",
       "    </tr>\n",
       "    <tr>\n",
       "      <th>3</th>\n",
       "      <td>(freedom2020, senate republicans)</td>\n",
       "    </tr>\n",
       "    <tr>\n",
       "      <th>4</th>\n",
       "      <td>(freedom2020, mike neanderthal mcnationalist❌)</td>\n",
       "    </tr>\n",
       "    <tr>\n",
       "      <th>...</th>\n",
       "      <td>...</td>\n",
       "    </tr>\n",
       "    <tr>\n",
       "      <th>29635</th>\n",
       "      <td>(jennifer lynn lawrence, dustin stockton)</td>\n",
       "    </tr>\n",
       "    <tr>\n",
       "      <th>29636</th>\n",
       "      <td>(jennifer lynn lawrence, #trumpunitybridge)</td>\n",
       "    </tr>\n",
       "    <tr>\n",
       "      <th>29637</th>\n",
       "      <td>(kylie jane kremer, dustin stockton)</td>\n",
       "    </tr>\n",
       "    <tr>\n",
       "      <th>29638</th>\n",
       "      <td>(kylie jane kremer, #trumpunitybridge)</td>\n",
       "    </tr>\n",
       "    <tr>\n",
       "      <th>29639</th>\n",
       "      <td>(dustin stockton, #trumpunitybridge)</td>\n",
       "    </tr>\n",
       "  </tbody>\n",
       "</table>\n",
       "<p>29640 rows × 1 columns</p>\n",
       "</div>"
      ],
      "text/plain": [
       "                                                    0\n",
       "0                                                None\n",
       "1                                                None\n",
       "2                         (freedom2020, rhonda swift)\n",
       "3                   (freedom2020, senate republicans)\n",
       "4      (freedom2020, mike neanderthal mcnationalist❌)\n",
       "...                                               ...\n",
       "29635       (jennifer lynn lawrence, dustin stockton)\n",
       "29636     (jennifer lynn lawrence, #trumpunitybridge)\n",
       "29637            (kylie jane kremer, dustin stockton)\n",
       "29638          (kylie jane kremer, #trumpunitybridge)\n",
       "29639            (dustin stockton, #trumpunitybridge)\n",
       "\n",
       "[29640 rows x 1 columns]"
      ]
     },
     "execution_count": 5,
     "metadata": {},
     "output_type": "execute_result"
    }
   ],
   "source": [
    "edges_df"
   ]
  },
  {
   "cell_type": "code",
   "execution_count": 6,
   "id": "future-serial",
   "metadata": {},
   "outputs": [],
   "source": [
    "edges_df.rename(columns={0 : 'edges'}, inplace=True)"
   ]
  },
  {
   "cell_type": "code",
   "execution_count": 57,
   "id": "fixed-formula",
   "metadata": {},
   "outputs": [],
   "source": [
    "top_edges = edges_df['edges'].value_counts() [edges_df['edges'].value_counts() > 110].reset_index()"
   ]
  },
  {
   "cell_type": "code",
   "execution_count": 58,
   "id": "wireless-value",
   "metadata": {},
   "outputs": [],
   "source": [
    "top_edges.rename(columns={'index' : 'edges', 'edges' : 'weight'}, inplace=True)"
   ]
  },
  {
   "cell_type": "code",
   "execution_count": 59,
   "id": "matched-attendance",
   "metadata": {},
   "outputs": [
    {
     "data": {
      "text/html": [
       "<div>\n",
       "<style scoped>\n",
       "    .dataframe tbody tr th:only-of-type {\n",
       "        vertical-align: middle;\n",
       "    }\n",
       "\n",
       "    .dataframe tbody tr th {\n",
       "        vertical-align: top;\n",
       "    }\n",
       "\n",
       "    .dataframe thead th {\n",
       "        text-align: right;\n",
       "    }\n",
       "</style>\n",
       "<table border=\"1\" class=\"dataframe\">\n",
       "  <thead>\n",
       "    <tr style=\"text-align: right;\">\n",
       "      <th></th>\n",
       "      <th>edges</th>\n",
       "      <th>weight</th>\n",
       "    </tr>\n",
       "  </thead>\n",
       "  <tbody>\n",
       "    <tr>\n",
       "      <th>0</th>\n",
       "      <td>(one america news, newsmax)</td>\n",
       "      <td>167</td>\n",
       "    </tr>\n",
       "    <tr>\n",
       "      <th>1</th>\n",
       "      <td>(donald j. trump, senator ted cruz)</td>\n",
       "      <td>141</td>\n",
       "    </tr>\n",
       "    <tr>\n",
       "      <th>2</th>\n",
       "      <td>(house republicans, senate republicans)</td>\n",
       "      <td>125</td>\n",
       "    </tr>\n",
       "    <tr>\n",
       "      <th>3</th>\n",
       "      <td>(gop, donald j. trump)</td>\n",
       "      <td>116</td>\n",
       "    </tr>\n",
       "    <tr>\n",
       "      <th>4</th>\n",
       "      <td>(senate republicans, donald j. trump)</td>\n",
       "      <td>115</td>\n",
       "    </tr>\n",
       "    <tr>\n",
       "      <th>5</th>\n",
       "      <td>(one america news, greg kelly)</td>\n",
       "      <td>114</td>\n",
       "    </tr>\n",
       "    <tr>\n",
       "      <th>6</th>\n",
       "      <td>(newsmax, greg kelly)</td>\n",
       "      <td>114</td>\n",
       "    </tr>\n",
       "    <tr>\n",
       "      <th>7</th>\n",
       "      <td>(house republicans, donald j. trump)</td>\n",
       "      <td>112</td>\n",
       "    </tr>\n",
       "  </tbody>\n",
       "</table>\n",
       "</div>"
      ],
      "text/plain": [
       "                                     edges  weight\n",
       "0              (one america news, newsmax)     167\n",
       "1      (donald j. trump, senator ted cruz)     141\n",
       "2  (house republicans, senate republicans)     125\n",
       "3                   (gop, donald j. trump)     116\n",
       "4    (senate republicans, donald j. trump)     115\n",
       "5           (one america news, greg kelly)     114\n",
       "6                    (newsmax, greg kelly)     114\n",
       "7     (house republicans, donald j. trump)     112"
      ]
     },
     "execution_count": 59,
     "metadata": {},
     "output_type": "execute_result"
    }
   ],
   "source": [
    "top_edges"
   ]
  },
  {
   "cell_type": "code",
   "execution_count": 60,
   "id": "sitting-honor",
   "metadata": {},
   "outputs": [],
   "source": [
    "# normalize weights\n",
    "x = top_edges[['weight']].values.astype(float)\n",
    "min_max_scaler = preprocessing.MinMaxScaler()\n",
    "x_scaled = min_max_scaler.fit_transform(x)\n",
    "normalized = pd.DataFrame(x_scaled, columns=['weights'])\n",
    "norm_weights=normalized['weights']"
   ]
  },
  {
   "cell_type": "code",
   "execution_count": null,
   "id": "small-petite",
   "metadata": {},
   "outputs": [],
   "source": []
  },
  {
   "cell_type": "code",
   "execution_count": 61,
   "id": "noticed-cheese",
   "metadata": {},
   "outputs": [],
   "source": [
    "top_edges.insert(1, \"weights\", norm_weights, True)\n",
    "top_edges.drop(columns=['weight'], inplace=True)"
   ]
  },
  {
   "cell_type": "code",
   "execution_count": 62,
   "id": "attempted-inventory",
   "metadata": {},
   "outputs": [
    {
     "data": {
      "text/html": [
       "<div>\n",
       "<style scoped>\n",
       "    .dataframe tbody tr th:only-of-type {\n",
       "        vertical-align: middle;\n",
       "    }\n",
       "\n",
       "    .dataframe tbody tr th {\n",
       "        vertical-align: top;\n",
       "    }\n",
       "\n",
       "    .dataframe thead th {\n",
       "        text-align: right;\n",
       "    }\n",
       "</style>\n",
       "<table border=\"1\" class=\"dataframe\">\n",
       "  <thead>\n",
       "    <tr style=\"text-align: right;\">\n",
       "      <th></th>\n",
       "      <th>edges</th>\n",
       "      <th>weights</th>\n",
       "    </tr>\n",
       "  </thead>\n",
       "  <tbody>\n",
       "    <tr>\n",
       "      <th>0</th>\n",
       "      <td>(one america news, newsmax)</td>\n",
       "      <td>1.000000</td>\n",
       "    </tr>\n",
       "    <tr>\n",
       "      <th>1</th>\n",
       "      <td>(donald j. trump, senator ted cruz)</td>\n",
       "      <td>0.527273</td>\n",
       "    </tr>\n",
       "    <tr>\n",
       "      <th>2</th>\n",
       "      <td>(house republicans, senate republicans)</td>\n",
       "      <td>0.236364</td>\n",
       "    </tr>\n",
       "  </tbody>\n",
       "</table>\n",
       "</div>"
      ],
      "text/plain": [
       "                                     edges   weights\n",
       "0              (one america news, newsmax)  1.000000\n",
       "1      (donald j. trump, senator ted cruz)  0.527273\n",
       "2  (house republicans, senate republicans)  0.236364"
      ]
     },
     "execution_count": 62,
     "metadata": {},
     "output_type": "execute_result"
    }
   ],
   "source": [
    "top_edges.head(3)"
   ]
  },
  {
   "cell_type": "code",
   "execution_count": 63,
   "id": "fresh-eagle",
   "metadata": {},
   "outputs": [],
   "source": [
    "top_edges.to_csv('data/weighted_mentions_edges110.csv')"
   ]
  },
  {
   "cell_type": "code",
   "execution_count": null,
   "id": "weird-mercury",
   "metadata": {},
   "outputs": [],
   "source": []
  }
 ],
 "metadata": {
  "kernelspec": {
   "display_name": "Environment (conda_tensorflow2_latest_p37)",
   "language": "python",
   "name": "conda_tensorflow2_latest_p37"
  },
  "language_info": {
   "codemirror_mode": {
    "name": "ipython",
    "version": 3
   },
   "file_extension": ".py",
   "mimetype": "text/x-python",
   "name": "python",
   "nbconvert_exporter": "python",
   "pygments_lexer": "ipython3",
   "version": "3.7.10"
  }
 },
 "nbformat": 4,
 "nbformat_minor": 5
}
